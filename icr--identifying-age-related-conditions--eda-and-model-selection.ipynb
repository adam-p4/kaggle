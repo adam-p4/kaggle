{
 "cells": [
  {
   "cell_type": "markdown",
   "id": "6cbed0cc",
   "metadata": {
    "papermill": {
     "duration": 0.011268,
     "end_time": "2023-06-16T18:24:27.654228",
     "exception": false,
     "start_time": "2023-06-16T18:24:27.642960",
     "status": "completed"
    },
    "tags": []
   },
   "source": [
    "# [ICR - Identifying Age-Related Conditions](https://www.kaggle.com/competitions/icr-identify-age-related-conditions)\n",
    "\n",
    "The goal of this competition is to predict if a person has any of three medical conditions. You are being asked to predict if the person has one or more of any of the three medical conditions `Class 1`, or none of the three medical conditions `Class 0`. You will create a model trained on measurements of health characteristics."
   ]
  },
  {
   "cell_type": "code",
   "execution_count": 1,
   "id": "8ab4a068",
   "metadata": {
    "execution": {
     "iopub.execute_input": "2023-06-16T18:24:27.673780Z",
     "iopub.status.busy": "2023-06-16T18:24:27.673391Z",
     "iopub.status.idle": "2023-06-16T18:24:27.687580Z",
     "shell.execute_reply": "2023-06-16T18:24:27.686186Z"
    },
    "papermill": {
     "duration": 0.02743,
     "end_time": "2023-06-16T18:24:27.690482",
     "exception": false,
     "start_time": "2023-06-16T18:24:27.663052",
     "status": "completed"
    },
    "tags": []
   },
   "outputs": [
    {
     "name": "stdout",
     "output_type": "stream",
     "text": [
      "/kaggle/input/icr-identify-age-related-conditions/sample_submission.csv\n",
      "/kaggle/input/icr-identify-age-related-conditions/greeks.csv\n",
      "/kaggle/input/icr-identify-age-related-conditions/train.csv\n",
      "/kaggle/input/icr-identify-age-related-conditions/test.csv\n"
     ]
    }
   ],
   "source": [
    "import numpy as np # linear algebra\n",
    "import pandas as pd # data processing, CSV file I/O (e.g. pd.read_csv)\n",
    "\n",
    "\n",
    "import os\n",
    "for dirname, _, filenames in os.walk('/kaggle/input'):\n",
    "    for filename in filenames:\n",
    "        print(os.path.join(dirname, filename))\n",
    "        \n",
    "# Makes the notebook more readable\n",
    "import warnings\n",
    "warnings.filterwarnings(\"ignore\") "
   ]
  },
  {
   "cell_type": "code",
   "execution_count": 2,
   "id": "0a4a92f1",
   "metadata": {
    "execution": {
     "iopub.execute_input": "2023-06-16T18:24:27.711862Z",
     "iopub.status.busy": "2023-06-16T18:24:27.711483Z",
     "iopub.status.idle": "2023-06-16T18:24:41.181100Z",
     "shell.execute_reply": "2023-06-16T18:24:41.179894Z"
    },
    "papermill": {
     "duration": 13.483455,
     "end_time": "2023-06-16T18:24:41.183448",
     "exception": false,
     "start_time": "2023-06-16T18:24:27.699993",
     "status": "completed"
    },
    "tags": []
   },
   "outputs": [],
   "source": [
    "from sklearn.base import BaseEstimator, TransformerMixin\n",
    "from sklearn.preprocessing import StandardScaler, FunctionTransformer, OneHotEncoder, OrdinalEncoder\n",
    "from sklearn.compose import make_column_transformer, make_column_selector\n",
    "from sklearn.impute import SimpleImputer\n",
    "from sklearn.pipeline import make_pipeline\n",
    "\n",
    "\n",
    "\n",
    "from sklearn.model_selection import train_test_split, RandomizedSearchCV, GridSearchCV\n",
    "from sklearn.ensemble import RandomForestRegressor, RandomForestClassifier\n",
    "from sklearn.svm import SVC\n",
    "from sklearn.metrics import accuracy_score\n",
    "\n",
    "\n",
    "import tensorflow as tf\n",
    "from tensorflow import keras\n",
    "from tensorflow.keras import layers\n",
    "\n",
    "\n",
    "import lightgbm as lgb\n",
    "\n",
    "\n",
    "# Plotting\n",
    "import matplotlib.pyplot as plt\n",
    "import seaborn as sns\n",
    "from pandas.plotting import scatter_matrix\n",
    "from IPython.display import display\n",
    "from pprint import pprint"
   ]
  },
  {
   "cell_type": "markdown",
   "id": "bcc15ae2",
   "metadata": {
    "papermill": {
     "duration": 0.008924,
     "end_time": "2023-06-16T18:24:41.201752",
     "exception": false,
     "start_time": "2023-06-16T18:24:41.192828",
     "status": "completed"
    },
    "tags": []
   },
   "source": [
    "#### Dataset description:\n",
    "\n",
    "* **train.csv** - The training set.\n",
    "    * **Id** Unique identifier for each observation.\n",
    "    * **AB-GL** Fifty-six anonymized health characteristics. All are numeric except for EJ, which is categorical.\n",
    "    * **Class** A binary target: 1 indicates the subject has been diagnosed with one of the three conditions, 0 indicates they have not.\n",
    "    \n",
    "    \n",
    "\n",
    "* **greeks.csv** - Supplemental metadata, only available for the training set.\n",
    "    * **Alpha** Identifies the type of age-related condition, if present.\n",
    "    * **A** No age-related condition. Corresponds to class 0.\n",
    "    * **B, D, G** The three age-related conditions. Correspond to class 1.\n",
    "    * **Beta, Gamma, Delta** Three experimental characteristics.\n",
    "    * **Epsilon** The date the data for this subject was collected. Note that all of the data in the test set was collected after the training set was collected."
   ]
  },
  {
   "cell_type": "markdown",
   "id": "637cd788",
   "metadata": {
    "papermill": {
     "duration": 0.008952,
     "end_time": "2023-06-16T18:24:41.219863",
     "exception": false,
     "start_time": "2023-06-16T18:24:41.210911",
     "status": "completed"
    },
    "tags": []
   },
   "source": [
    "#### Evaluation criteria\n",
    "\n",
    "Submissions are evaluated using a **balanced logarithmic loss**. The overall effect is such that each class is roughly equally important for the final score.\n",
    "\n",
    "The formula for the loss function is:\n",
    "$$\\text{Log Loss} = \\frac{-\\frac{1}{N_{0}} \\sum_{i=1}^{N_{0}} y_{0 i} \\log  p_{0 i} - \\frac {1}{N_{1}} \\sum_{i=1}^{N_{1}} y_{1 i} \\log  p_{1 i} } { 2 }$$\n",
    "\n",
    "where $N_{c}$ is the number of observations of class $c$, $\\log$ is the natural logarithm, $y_{c i}$ is $1$ if observation $i$ belongs to class $c$ and $0$ otherwise, $p_{c i}$ is the predicted probability that observation $i$ belongs to class $c$.\n",
    "\n",
    "In order to avoid the extremes of the log function, each predicted probability $p$ is replaced with $\\max(\\min(p,1-10^{-15}),10^{-15})$\n",
    "\n",
    "We can **define a function** to calculate the loss:"
   ]
  },
  {
   "cell_type": "code",
   "execution_count": 3,
   "id": "e4f26bb2",
   "metadata": {
    "execution": {
     "iopub.execute_input": "2023-06-16T18:24:41.240117Z",
     "iopub.status.busy": "2023-06-16T18:24:41.239499Z",
     "iopub.status.idle": "2023-06-16T18:24:41.245353Z",
     "shell.execute_reply": "2023-06-16T18:24:41.244666Z"
    },
    "papermill": {
     "duration": 0.018454,
     "end_time": "2023-06-16T18:24:41.247450",
     "exception": false,
     "start_time": "2023-06-16T18:24:41.228996",
     "status": "completed"
    },
    "tags": []
   },
   "outputs": [],
   "source": [
    "def balanced_logarithmic_loss(y_true, y_pred):\n",
    "    \n",
    "    # N_c is the number of observations of class c\n",
    "    N_0 = np.sum(y_true == 0, axis=0)\n",
    "    N_1 = np.sum(y_true == 1, axis=0)\n",
    "\n",
    "    # In order to avoid the extremes of the log function, each predicted probability 𝑝 is replaced with max(min(𝑝,1−10−15),10−15)\n",
    "    y_pred = np.maximum(np.minimum(y_pred, 1 - 1e-15), 1e-15)\n",
    "\n",
    "    # balanced logarithmic loss \n",
    "    loss_numerator = - (1/N_0) * np.sum((1 - y_true) * np.log(1-y_pred)) - (1/N_1) * np.sum(y_true * np.log(y_pred))\n",
    "\n",
    "    return loss_numerator / 2"
   ]
  },
  {
   "cell_type": "markdown",
   "id": "46b51188",
   "metadata": {
    "papermill": {
     "duration": 0.009108,
     "end_time": "2023-06-16T18:24:41.267063",
     "exception": false,
     "start_time": "2023-06-16T18:24:41.257955",
     "status": "completed"
    },
    "tags": []
   },
   "source": [
    "## Dataset Exploration\n",
    "### The Big Picture\n",
    "\n",
    "First off, we look at the data:"
   ]
  },
  {
   "cell_type": "code",
   "execution_count": 4,
   "id": "ce480ddf",
   "metadata": {
    "execution": {
     "iopub.execute_input": "2023-06-16T18:24:41.288391Z",
     "iopub.status.busy": "2023-06-16T18:24:41.288019Z",
     "iopub.status.idle": "2023-06-16T18:24:41.361081Z",
     "shell.execute_reply": "2023-06-16T18:24:41.359961Z"
    },
    "papermill": {
     "duration": 0.086546,
     "end_time": "2023-06-16T18:24:41.363553",
     "exception": false,
     "start_time": "2023-06-16T18:24:41.277007",
     "status": "completed"
    },
    "tags": []
   },
   "outputs": [
    {
     "name": "stdout",
     "output_type": "stream",
     "text": [
      "<class 'pandas.core.frame.DataFrame'>\n",
      "RangeIndex: 617 entries, 0 to 616\n",
      "Data columns (total 58 columns):\n",
      " #   Column  Non-Null Count  Dtype  \n",
      "---  ------  --------------  -----  \n",
      " 0   Id      617 non-null    object \n",
      " 1   AB      617 non-null    float64\n",
      " 2   AF      617 non-null    float64\n",
      " 3   AH      617 non-null    float64\n",
      " 4   AM      617 non-null    float64\n",
      " 5   AR      617 non-null    float64\n",
      " 6   AX      617 non-null    float64\n",
      " 7   AY      617 non-null    float64\n",
      " 8   AZ      617 non-null    float64\n",
      " 9   BC      617 non-null    float64\n",
      " 10  BD      617 non-null    float64\n",
      " 11  BN      617 non-null    float64\n",
      " 12  BP      617 non-null    float64\n",
      " 13  BQ      557 non-null    float64\n",
      " 14  BR      617 non-null    float64\n",
      " 15  BZ      617 non-null    float64\n",
      " 16  CB      615 non-null    float64\n",
      " 17  CC      614 non-null    float64\n",
      " 18  CD      617 non-null    float64\n",
      " 19  CF      617 non-null    float64\n",
      " 20  CH      617 non-null    float64\n",
      " 21  CL      617 non-null    float64\n",
      " 22  CR      617 non-null    float64\n",
      " 23  CS      617 non-null    float64\n",
      " 24  CU      617 non-null    float64\n",
      " 25  CW      617 non-null    float64\n",
      " 26  DA      617 non-null    float64\n",
      " 27  DE      617 non-null    float64\n",
      " 28  DF      617 non-null    float64\n",
      " 29  DH      617 non-null    float64\n",
      " 30  DI      617 non-null    float64\n",
      " 31  DL      617 non-null    float64\n",
      " 32  DN      617 non-null    float64\n",
      " 33  DU      616 non-null    float64\n",
      " 34  DV      617 non-null    float64\n",
      " 35  DY      617 non-null    float64\n",
      " 36  EB      617 non-null    float64\n",
      " 37  EE      617 non-null    float64\n",
      " 38  EG      617 non-null    float64\n",
      " 39  EH      617 non-null    float64\n",
      " 40  EJ      617 non-null    object \n",
      " 41  EL      557 non-null    float64\n",
      " 42  EP      617 non-null    float64\n",
      " 43  EU      617 non-null    float64\n",
      " 44  FC      616 non-null    float64\n",
      " 45  FD      617 non-null    float64\n",
      " 46  FE      617 non-null    float64\n",
      " 47  FI      617 non-null    float64\n",
      " 48  FL      616 non-null    float64\n",
      " 49  FR      617 non-null    float64\n",
      " 50  FS      615 non-null    float64\n",
      " 51  GB      617 non-null    float64\n",
      " 52  GE      617 non-null    float64\n",
      " 53  GF      617 non-null    float64\n",
      " 54  GH      617 non-null    float64\n",
      " 55  GI      617 non-null    float64\n",
      " 56  GL      616 non-null    float64\n",
      " 57  Class   617 non-null    int64  \n",
      "dtypes: float64(55), int64(1), object(2)\n",
      "memory usage: 279.7+ KB\n",
      "None\n",
      "<class 'pandas.core.frame.DataFrame'>\n",
      "RangeIndex: 617 entries, 0 to 616\n",
      "Data columns (total 6 columns):\n",
      " #   Column   Non-Null Count  Dtype \n",
      "---  ------   --------------  ----- \n",
      " 0   Id       617 non-null    object\n",
      " 1   Alpha    617 non-null    object\n",
      " 2   Beta     617 non-null    object\n",
      " 3   Gamma    617 non-null    object\n",
      " 4   Delta    617 non-null    object\n",
      " 5   Epsilon  617 non-null    object\n",
      "dtypes: object(6)\n",
      "memory usage: 29.0+ KB\n",
      "None\n"
     ]
    }
   ],
   "source": [
    "dataset_df = pd.read_csv('/kaggle/input/icr-identify-age-related-conditions/train.csv')\n",
    "greeks_df = pd.read_csv('/kaggle/input/icr-identify-age-related-conditions/greeks.csv')\n",
    "\n",
    "print(dataset_df.info())\n",
    "print(greeks_df.info())"
   ]
  },
  {
   "cell_type": "markdown",
   "id": "18433fc8",
   "metadata": {
    "papermill": {
     "duration": 0.009215,
     "end_time": "2023-06-16T18:24:41.382454",
     "exception": false,
     "start_time": "2023-06-16T18:24:41.373239",
     "status": "completed"
    },
    "tags": []
   },
   "source": [
    "* There is some **data missing**, in particular the `BQ` and `EL` columns are around 10% empty. To deal with this we could fill the missing values in with the mean or median, drop the columns entirely, or a mix of both.\n",
    "* Most of the columns are floats, except the **EJ column which has categorical data**, as mentioned in the dataset description. We will have to use an encoder to turn it into numerical data.\n",
    "* The ``greeks`` dataset has no numerical data.\n",
    "\n",
    "Let's merge both databases and see a sample of the data:"
   ]
  },
  {
   "cell_type": "code",
   "execution_count": 5,
   "id": "60098b04",
   "metadata": {
    "execution": {
     "iopub.execute_input": "2023-06-16T18:24:41.403225Z",
     "iopub.status.busy": "2023-06-16T18:24:41.402820Z",
     "iopub.status.idle": "2023-06-16T18:24:41.452818Z",
     "shell.execute_reply": "2023-06-16T18:24:41.451956Z"
    },
    "papermill": {
     "duration": 0.062811,
     "end_time": "2023-06-16T18:24:41.454695",
     "exception": false,
     "start_time": "2023-06-16T18:24:41.391884",
     "status": "completed"
    },
    "tags": []
   },
   "outputs": [
    {
     "data": {
      "text/html": [
       "<div>\n",
       "<style scoped>\n",
       "    .dataframe tbody tr th:only-of-type {\n",
       "        vertical-align: middle;\n",
       "    }\n",
       "\n",
       "    .dataframe tbody tr th {\n",
       "        vertical-align: top;\n",
       "    }\n",
       "\n",
       "    .dataframe thead th {\n",
       "        text-align: right;\n",
       "    }\n",
       "</style>\n",
       "<table border=\"1\" class=\"dataframe\">\n",
       "  <thead>\n",
       "    <tr style=\"text-align: right;\">\n",
       "      <th></th>\n",
       "      <th>Id</th>\n",
       "      <th>AB</th>\n",
       "      <th>AF</th>\n",
       "      <th>AH</th>\n",
       "      <th>AM</th>\n",
       "      <th>AR</th>\n",
       "      <th>AX</th>\n",
       "      <th>AY</th>\n",
       "      <th>AZ</th>\n",
       "      <th>BC</th>\n",
       "      <th>...</th>\n",
       "      <th>GF</th>\n",
       "      <th>GH</th>\n",
       "      <th>GI</th>\n",
       "      <th>GL</th>\n",
       "      <th>Class</th>\n",
       "      <th>Alpha</th>\n",
       "      <th>Beta</th>\n",
       "      <th>Gamma</th>\n",
       "      <th>Delta</th>\n",
       "      <th>Epsilon</th>\n",
       "    </tr>\n",
       "  </thead>\n",
       "  <tbody>\n",
       "    <tr>\n",
       "      <th>0</th>\n",
       "      <td>000ff2bfdfe9</td>\n",
       "      <td>0.209377</td>\n",
       "      <td>3109.03329</td>\n",
       "      <td>85.200147</td>\n",
       "      <td>22.394407</td>\n",
       "      <td>8.138688</td>\n",
       "      <td>0.699861</td>\n",
       "      <td>0.025578</td>\n",
       "      <td>9.812214</td>\n",
       "      <td>5.555634</td>\n",
       "      <td>...</td>\n",
       "      <td>2003.810319</td>\n",
       "      <td>22.136229</td>\n",
       "      <td>69.834944</td>\n",
       "      <td>0.120343</td>\n",
       "      <td>1</td>\n",
       "      <td>B</td>\n",
       "      <td>C</td>\n",
       "      <td>G</td>\n",
       "      <td>D</td>\n",
       "      <td>3/19/2019</td>\n",
       "    </tr>\n",
       "    <tr>\n",
       "      <th>1</th>\n",
       "      <td>007255e47698</td>\n",
       "      <td>0.145282</td>\n",
       "      <td>978.76416</td>\n",
       "      <td>85.200147</td>\n",
       "      <td>36.968889</td>\n",
       "      <td>8.138688</td>\n",
       "      <td>3.632190</td>\n",
       "      <td>0.025578</td>\n",
       "      <td>13.517790</td>\n",
       "      <td>1.229900</td>\n",
       "      <td>...</td>\n",
       "      <td>27981.562750</td>\n",
       "      <td>29.135430</td>\n",
       "      <td>32.131996</td>\n",
       "      <td>21.978000</td>\n",
       "      <td>0</td>\n",
       "      <td>A</td>\n",
       "      <td>C</td>\n",
       "      <td>M</td>\n",
       "      <td>B</td>\n",
       "      <td>Unknown</td>\n",
       "    </tr>\n",
       "    <tr>\n",
       "      <th>2</th>\n",
       "      <td>013f2bd269f5</td>\n",
       "      <td>0.470030</td>\n",
       "      <td>2635.10654</td>\n",
       "      <td>85.200147</td>\n",
       "      <td>32.360553</td>\n",
       "      <td>8.138688</td>\n",
       "      <td>6.732840</td>\n",
       "      <td>0.025578</td>\n",
       "      <td>12.824570</td>\n",
       "      <td>1.229900</td>\n",
       "      <td>...</td>\n",
       "      <td>13676.957810</td>\n",
       "      <td>28.022851</td>\n",
       "      <td>35.192676</td>\n",
       "      <td>0.196941</td>\n",
       "      <td>0</td>\n",
       "      <td>A</td>\n",
       "      <td>C</td>\n",
       "      <td>M</td>\n",
       "      <td>B</td>\n",
       "      <td>Unknown</td>\n",
       "    </tr>\n",
       "    <tr>\n",
       "      <th>3</th>\n",
       "      <td>043ac50845d5</td>\n",
       "      <td>0.252107</td>\n",
       "      <td>3819.65177</td>\n",
       "      <td>120.201618</td>\n",
       "      <td>77.112203</td>\n",
       "      <td>8.138688</td>\n",
       "      <td>3.685344</td>\n",
       "      <td>0.025578</td>\n",
       "      <td>11.053708</td>\n",
       "      <td>1.229900</td>\n",
       "      <td>...</td>\n",
       "      <td>2094.262452</td>\n",
       "      <td>39.948656</td>\n",
       "      <td>90.493248</td>\n",
       "      <td>0.155829</td>\n",
       "      <td>0</td>\n",
       "      <td>A</td>\n",
       "      <td>C</td>\n",
       "      <td>M</td>\n",
       "      <td>B</td>\n",
       "      <td>Unknown</td>\n",
       "    </tr>\n",
       "    <tr>\n",
       "      <th>4</th>\n",
       "      <td>044fb8a146ec</td>\n",
       "      <td>0.380297</td>\n",
       "      <td>3733.04844</td>\n",
       "      <td>85.200147</td>\n",
       "      <td>14.103738</td>\n",
       "      <td>8.138688</td>\n",
       "      <td>3.942255</td>\n",
       "      <td>0.054810</td>\n",
       "      <td>3.396778</td>\n",
       "      <td>102.151980</td>\n",
       "      <td>...</td>\n",
       "      <td>8524.370502</td>\n",
       "      <td>45.381316</td>\n",
       "      <td>36.262628</td>\n",
       "      <td>0.096614</td>\n",
       "      <td>1</td>\n",
       "      <td>D</td>\n",
       "      <td>B</td>\n",
       "      <td>F</td>\n",
       "      <td>B</td>\n",
       "      <td>3/25/2020</td>\n",
       "    </tr>\n",
       "  </tbody>\n",
       "</table>\n",
       "<p>5 rows × 63 columns</p>\n",
       "</div>"
      ],
      "text/plain": [
       "             Id        AB          AF          AH         AM        AR  \\\n",
       "0  000ff2bfdfe9  0.209377  3109.03329   85.200147  22.394407  8.138688   \n",
       "1  007255e47698  0.145282   978.76416   85.200147  36.968889  8.138688   \n",
       "2  013f2bd269f5  0.470030  2635.10654   85.200147  32.360553  8.138688   \n",
       "3  043ac50845d5  0.252107  3819.65177  120.201618  77.112203  8.138688   \n",
       "4  044fb8a146ec  0.380297  3733.04844   85.200147  14.103738  8.138688   \n",
       "\n",
       "         AX        AY         AZ          BC  ...            GF         GH  \\\n",
       "0  0.699861  0.025578   9.812214    5.555634  ...   2003.810319  22.136229   \n",
       "1  3.632190  0.025578  13.517790    1.229900  ...  27981.562750  29.135430   \n",
       "2  6.732840  0.025578  12.824570    1.229900  ...  13676.957810  28.022851   \n",
       "3  3.685344  0.025578  11.053708    1.229900  ...   2094.262452  39.948656   \n",
       "4  3.942255  0.054810   3.396778  102.151980  ...   8524.370502  45.381316   \n",
       "\n",
       "          GI         GL  Class  Alpha  Beta  Gamma  Delta    Epsilon  \n",
       "0  69.834944   0.120343      1      B     C      G      D  3/19/2019  \n",
       "1  32.131996  21.978000      0      A     C      M      B    Unknown  \n",
       "2  35.192676   0.196941      0      A     C      M      B    Unknown  \n",
       "3  90.493248   0.155829      0      A     C      M      B    Unknown  \n",
       "4  36.262628   0.096614      1      D     B      F      B  3/25/2020  \n",
       "\n",
       "[5 rows x 63 columns]"
      ]
     },
     "execution_count": 5,
     "metadata": {},
     "output_type": "execute_result"
    }
   ],
   "source": [
    "# Merge the databases for data exploration:\n",
    "data_plus_greeks_df = pd.merge(dataset_df, greeks_df) # inner join\n",
    "\n",
    "data_plus_greeks_df.head()"
   ]
  },
  {
   "cell_type": "markdown",
   "id": "554c3b7a",
   "metadata": {
    "papermill": {
     "duration": 0.009463,
     "end_time": "2023-06-16T18:24:41.474335",
     "exception": false,
     "start_time": "2023-06-16T18:24:41.464872",
     "status": "completed"
    },
    "tags": []
   },
   "source": [
    "We can look at the greeks dataset: "
   ]
  },
  {
   "cell_type": "code",
   "execution_count": 6,
   "id": "77e70e50",
   "metadata": {
    "execution": {
     "iopub.execute_input": "2023-06-16T18:24:41.495467Z",
     "iopub.status.busy": "2023-06-16T18:24:41.495069Z",
     "iopub.status.idle": "2023-06-16T18:24:41.507728Z",
     "shell.execute_reply": "2023-06-16T18:24:41.505687Z"
    },
    "papermill": {
     "duration": 0.026554,
     "end_time": "2023-06-16T18:24:41.510507",
     "exception": false,
     "start_time": "2023-06-16T18:24:41.483953",
     "status": "completed"
    },
    "tags": []
   },
   "outputs": [
    {
     "name": "stdout",
     "output_type": "stream",
     "text": [
      "Alpha\n",
      "A    509\n",
      "B     61\n",
      "G     29\n",
      "D     18\n",
      "dtype: int64\n",
      "Beta\n",
      "C    407\n",
      "B    202\n",
      "A      8\n",
      "dtype: int64\n",
      "Gamma\n",
      "M    445\n",
      "N     64\n",
      "H     53\n",
      "B     18\n",
      "A     11\n",
      "F     10\n",
      "E      8\n",
      "G      8\n",
      "dtype: int64\n",
      "Delta\n",
      "B    456\n",
      "A     75\n",
      "C     64\n",
      "D     22\n",
      "dtype: int64\n",
      "Epsilon\n",
      "Unknown      144\n",
      "5/29/2019     24\n",
      "6/26/2019     19\n",
      "9/15/2020     17\n",
      "8/29/2019     13\n",
      "            ... \n",
      "4/11/2019      1\n",
      "4/10/2019      1\n",
      "4/1/2019       1\n",
      "3/8/2018       1\n",
      "1/11/2018      1\n",
      "Length: 198, dtype: int64\n"
     ]
    }
   ],
   "source": [
    "for col in greeks_df.columns:\n",
    "    if col != 'Id':\n",
    "        print(greeks_df.value_counts(col))"
   ]
  },
  {
   "cell_type": "markdown",
   "id": "4e9978b5",
   "metadata": {
    "papermill": {
     "duration": 0.009874,
     "end_time": "2023-06-16T18:24:41.530794",
     "exception": false,
     "start_time": "2023-06-16T18:24:41.520920",
     "status": "completed"
    },
    "tags": []
   },
   "source": [
    "The `Epsilon` attribute, which represents the date of the data collection, has many unknowns.\n",
    "\n",
    "Let's plot the features of the dataset:"
   ]
  },
  {
   "cell_type": "code",
   "execution_count": 7,
   "id": "83ca0911",
   "metadata": {
    "execution": {
     "iopub.execute_input": "2023-06-16T18:24:41.552801Z",
     "iopub.status.busy": "2023-06-16T18:24:41.552426Z",
     "iopub.status.idle": "2023-06-16T18:24:49.197548Z",
     "shell.execute_reply": "2023-06-16T18:24:49.196636Z"
    },
    "papermill": {
     "duration": 7.658287,
     "end_time": "2023-06-16T18:24:49.199442",
     "exception": false,
     "start_time": "2023-06-16T18:24:41.541155",
     "status": "completed"
    },
    "tags": []
   },
   "outputs": [
    {
     "data": {
      "image/png": "[encoded data removed]",
      "text/plain": [
       "<Figure size 1400x2400 with 56 Axes>"
      ]
     },
     "metadata": {},
     "output_type": "display_data"
    }
   ],
   "source": [
    "dataset_df.hist(bins = 20, figsize=(14,24))\n",
    "plt.show()"
   ]
  },
  {
   "cell_type": "markdown",
   "id": "a0508b64",
   "metadata": {
    "papermill": {
     "duration": 0.012637,
     "end_time": "2023-06-16T18:24:49.224695",
     "exception": false,
     "start_time": "2023-06-16T18:24:49.212058",
     "status": "completed"
    },
    "tags": []
   },
   "source": [
    "This histograms show that:\n",
    "* There are **more patients with `Class 0` than with `Class 1`** in the dataset.\n",
    "* Most of the distributions have a **normal shape** (like `BN`) or a **tail-heavy shape** (like `DE`).\n",
    "* There are some features which have **strange peaks**: they may have been **truncated** in some way (like `BQ`), or they may be heavily **bimodal** (like `GL`).\n",
    "\n",
    "We have to take these observations into account when training the model:\n",
    "* We can **normalize the tail-heavy distributions** by taking the log of each one, which may make the models more accurate.\n",
    "* We can **eliminate some of the features** with strange distributions or **eliminate the truncated samples** from the dataset, as they may overfit the model to non-representative data.\n",
    "\n",
    "\n",
    "Let's look at the unusual attributes again in detail:"
   ]
  },
  {
   "cell_type": "code",
   "execution_count": 8,
   "id": "8d9d9d98",
   "metadata": {
    "execution": {
     "iopub.execute_input": "2023-06-16T18:24:49.251435Z",
     "iopub.status.busy": "2023-06-16T18:24:49.251053Z",
     "iopub.status.idle": "2023-06-16T18:24:50.241570Z",
     "shell.execute_reply": "2023-06-16T18:24:50.239989Z"
    },
    "papermill": {
     "duration": 1.006654,
     "end_time": "2023-06-16T18:24:50.243674",
     "exception": false,
     "start_time": "2023-06-16T18:24:49.237020",
     "status": "completed"
    },
    "tags": []
   },
   "outputs": [
    {
     "data": {
      "text/html": [
       "<div>\n",
       "<style scoped>\n",
       "    .dataframe tbody tr th:only-of-type {\n",
       "        vertical-align: middle;\n",
       "    }\n",
       "\n",
       "    .dataframe tbody tr th {\n",
       "        vertical-align: top;\n",
       "    }\n",
       "\n",
       "    .dataframe thead th {\n",
       "        text-align: right;\n",
       "    }\n",
       "</style>\n",
       "<table border=\"1\" class=\"dataframe\">\n",
       "  <thead>\n",
       "    <tr style=\"text-align: right;\">\n",
       "      <th></th>\n",
       "      <th>BQ</th>\n",
       "      <th>CW</th>\n",
       "      <th>EL</th>\n",
       "      <th>GL</th>\n",
       "    </tr>\n",
       "  </thead>\n",
       "  <tbody>\n",
       "    <tr>\n",
       "      <th>count</th>\n",
       "      <td>557.000000</td>\n",
       "      <td>617.000000</td>\n",
       "      <td>557.000000</td>\n",
       "      <td>616.000000</td>\n",
       "    </tr>\n",
       "    <tr>\n",
       "      <th>mean</th>\n",
       "      <td>98.328737</td>\n",
       "      <td>27.165653</td>\n",
       "      <td>69.582596</td>\n",
       "      <td>8.530961</td>\n",
       "    </tr>\n",
       "    <tr>\n",
       "      <th>std</th>\n",
       "      <td>96.479371</td>\n",
       "      <td>14.645993</td>\n",
       "      <td>38.555707</td>\n",
       "      <td>10.327010</td>\n",
       "    </tr>\n",
       "    <tr>\n",
       "      <th>min</th>\n",
       "      <td>1.331155</td>\n",
       "      <td>7.030640</td>\n",
       "      <td>5.394675</td>\n",
       "      <td>0.001129</td>\n",
       "    </tr>\n",
       "    <tr>\n",
       "      <th>25%</th>\n",
       "      <td>27.834425</td>\n",
       "      <td>7.030640</td>\n",
       "      <td>30.927468</td>\n",
       "      <td>0.124392</td>\n",
       "    </tr>\n",
       "    <tr>\n",
       "      <th>50%</th>\n",
       "      <td>61.642115</td>\n",
       "      <td>36.019104</td>\n",
       "      <td>71.949306</td>\n",
       "      <td>0.337827</td>\n",
       "    </tr>\n",
       "    <tr>\n",
       "      <th>75%</th>\n",
       "      <td>134.009015</td>\n",
       "      <td>37.935832</td>\n",
       "      <td>109.125159</td>\n",
       "      <td>21.978000</td>\n",
       "    </tr>\n",
       "    <tr>\n",
       "      <th>max</th>\n",
       "      <td>344.644105</td>\n",
       "      <td>64.521624</td>\n",
       "      <td>109.125159</td>\n",
       "      <td>21.978000</td>\n",
       "    </tr>\n",
       "  </tbody>\n",
       "</table>\n",
       "</div>"
      ],
      "text/plain": [
       "               BQ         CW           EL          GL\n",
       "count  557.000000  617.000000  557.000000  616.000000\n",
       "mean    98.328737   27.165653   69.582596    8.530961\n",
       "std     96.479371   14.645993   38.555707   10.327010\n",
       "min      1.331155    7.030640    5.394675    0.001129\n",
       "25%     27.834425    7.030640   30.927468    0.124392\n",
       "50%     61.642115   36.019104   71.949306    0.337827\n",
       "75%    134.009015   37.935832  109.125159   21.978000\n",
       "max    344.644105   64.521624  109.125159   21.978000"
      ]
     },
     "metadata": {},
     "output_type": "display_data"
    },
    {
     "data": {
      "text/plain": [
       "array([[<Axes: title={'center': 'BQ'}>, <Axes: title={'center': 'CW '}>],\n",
       "       [<Axes: title={'center': 'EL'}>, <Axes: title={'center': 'GL'}>]],\n",
       "      dtype=object)"
      ]
     },
     "metadata": {},
     "output_type": "display_data"
    },
    {
     "data": {
      "image/png": "[encoded data removed]",
      "text/plain": [
       "<Figure size 1200x800 with 4 Axes>"
      ]
     },
     "metadata": {},
     "output_type": "display_data"
    }
   ],
   "source": [
    "unusual_attributes = ['BQ', 'CW ', 'EL', 'GL']\n",
    "\n",
    "display(dataset_df[unusual_attributes].describe())\n",
    "display(dataset_df[unusual_attributes].hist(bins = 50, figsize=(12,8)))"
   ]
  },
  {
   "cell_type": "markdown",
   "id": "f07fc1d7",
   "metadata": {
    "papermill": {
     "duration": 0.011848,
     "end_time": "2023-06-16T18:24:50.267893",
     "exception": false,
     "start_time": "2023-06-16T18:24:50.256045",
     "status": "completed"
    },
    "tags": []
   },
   "source": [
    "## Data cleaning\n",
    "\n",
    "To prepare the data for training, some adjustments are needed. \n",
    "\n",
    "First we will need to **split the data** into **training** and **validation** portions. To do this we have to take a sample from the dataset.\n",
    "\n",
    "#### Sampling method\n",
    "\n",
    "We can randomly sample the data, but since the dataset is small, there is a high risk of a skewed test sample.\n",
    "\n",
    "For this dataset **stratified sampling** may be a better way to split the data. \n",
    "\n",
    "``Alpha`` is the type of age-related condition, so it's a good candidate for providing the stratums.\n",
    "\n",
    "A decent validation size is around 20% of the data, especially when we have a small dataset."
   ]
  },
  {
   "cell_type": "code",
   "execution_count": 9,
   "id": "88f7048e",
   "metadata": {
    "execution": {
     "iopub.execute_input": "2023-06-16T18:24:50.294405Z",
     "iopub.status.busy": "2023-06-16T18:24:50.294018Z",
     "iopub.status.idle": "2023-06-16T18:24:50.317054Z",
     "shell.execute_reply": "2023-06-16T18:24:50.315900Z"
    },
    "papermill": {
     "duration": 0.03925,
     "end_time": "2023-06-16T18:24:50.319266",
     "exception": false,
     "start_time": "2023-06-16T18:24:50.280016",
     "status": "completed"
    },
    "tags": []
   },
   "outputs": [
    {
     "name": "stdout",
     "output_type": "stream",
     "text": [
      "Count of each Alpha type in the validation set:\n",
      " A    102\n",
      "B     12\n",
      "G      6\n",
      "D      4\n",
      "Name: Alpha, dtype: int64\n"
     ]
    }
   ],
   "source": [
    "dataset_alpha_df = pd.merge(dataset_df, greeks_df[['Id','Alpha']])\n",
    "\n",
    "from sklearn.model_selection import StratifiedShuffleSplit\n",
    "\n",
    "\n",
    "split = StratifiedShuffleSplit(n_splits=1, test_size=0.2, random_state=99)\n",
    "\n",
    "for train_index, val_index in split.split(dataset_alpha_df, dataset_alpha_df['Alpha']):\n",
    "    strat_train_set = dataset_alpha_df.loc[train_index]\n",
    "    strat_val_set = dataset_alpha_df.loc[val_index]\n",
    "\n",
    "# Check that it worked:\n",
    "print('Count of each Alpha type in the validation set:\\n', strat_val_set[\"Alpha\"].value_counts())\n",
    "    \n",
    "# Delete Id and Alpha, which won't be used for training\n",
    "strat_train_set = strat_train_set.drop(['Id', 'Alpha'], axis = 1)\n",
    "strat_val_set = strat_val_set.drop(['Id', 'Alpha'], axis = 1)\n",
    "\n",
    "# Split into X and y:\n",
    "X_train = strat_train_set.drop(['Class'], axis = 1)\n",
    "y_train = strat_train_set.pop('Class')\n",
    "\n",
    "X_valid = strat_val_set.drop(['Class'], axis = 1)\n",
    "y_valid = strat_val_set.pop('Class')    "
   ]
  },
  {
   "cell_type": "markdown",
   "id": "5c24502a",
   "metadata": {
    "papermill": {
     "duration": 0.012359,
     "end_time": "2023-06-16T18:24:50.344179",
     "exception": false,
     "start_time": "2023-06-16T18:24:50.331820",
     "status": "completed"
    },
    "tags": []
   },
   "source": [
    "#### Feature engineering\n",
    "\n",
    "To help the accuracy of our future model, we can transform the data in these ways:\n",
    "\n",
    "* Applying a **log transformation** to the tail-heavy attributes.\n",
    "* Modifying the attributes with unusual distributions in different ways:\n",
    "    * Deleting the attributes entirely\n",
    "    * Deleting the "
   ]
  },
  {
   "cell_type": "code",
   "execution_count": 10,
   "id": "07265040",
   "metadata": {
    "execution": {
     "iopub.execute_input": "2023-06-16T18:24:50.371508Z",
     "iopub.status.busy": "2023-06-16T18:24:50.371115Z",
     "iopub.status.idle": "2023-06-16T18:24:50.379192Z",
     "shell.execute_reply": "2023-06-16T18:24:50.378207Z"
    },
    "papermill": {
     "duration": 0.024758,
     "end_time": "2023-06-16T18:24:50.381730",
     "exception": false,
     "start_time": "2023-06-16T18:24:50.356972",
     "status": "completed"
    },
    "tags": []
   },
   "outputs": [
    {
     "data": {
      "text/plain": [
       "['AZ', 'BN', 'CC', 'CR', 'CS', 'CU', 'DA', 'DH', 'DL', 'DN', 'FI', 'GH', 'GI']"
      ]
     },
     "execution_count": 10,
     "metadata": {},
     "output_type": "execute_result"
    }
   ],
   "source": [
    "tail_heavy_attributes = ['AB', 'AF', 'AH', 'AM', 'AR', 'AX', 'AY', 'BC', 'BD ', 'BP', 'BQ', 'BR',\n",
    "       'BZ', 'CB', 'CD ', 'CF', 'CH', 'CL', 'CW ', 'DE', 'DF', 'DI', 'DU',\n",
    "       'DV', 'DY', 'EB', 'EE', 'EG', 'EH', 'EL', 'EP', 'EU', 'FC', 'FD ', 'FE',\n",
    "       'FL', 'FR', 'FS', 'GB', 'GE', 'GF', 'GL']\n",
    "\n",
    "not_tail_heavy_attributes = [col for col in dataset_df if col not in ['Id', 'Class', 'EJ'] + tail_heavy_attributes]\n",
    "\n",
    "not_tail_heavy_attributes"
   ]
  },
  {
   "cell_type": "markdown",
   "id": "7adbd4b4",
   "metadata": {
    "papermill": {
     "duration": 0.012339,
     "end_time": "2023-06-16T18:24:50.406769",
     "exception": false,
     "start_time": "2023-06-16T18:24:50.394430",
     "status": "completed"
    },
    "tags": []
   },
   "source": [
    "We use the **one hot encoder** as mentioned, and also **scale** the numerical data, to make the model more accurate."
   ]
  },
  {
   "cell_type": "code",
   "execution_count": 11,
   "id": "13551049",
   "metadata": {
    "execution": {
     "iopub.execute_input": "2023-06-16T18:24:50.433833Z",
     "iopub.status.busy": "2023-06-16T18:24:50.433471Z",
     "iopub.status.idle": "2023-06-16T18:24:50.487724Z",
     "shell.execute_reply": "2023-06-16T18:24:50.486178Z"
    },
    "papermill": {
     "duration": 0.070618,
     "end_time": "2023-06-16T18:24:50.490117",
     "exception": false,
     "start_time": "2023-06-16T18:24:50.419499",
     "status": "completed"
    },
    "tags": []
   },
   "outputs": [],
   "source": [
    "transformer_num = make_pipeline(\n",
    "    SimpleImputer(strategy=\"median\"), # There are a few missing values\n",
    "    StandardScaler(),\n",
    ")\n",
    "\n",
    "transformer_num_log = make_pipeline(  # Same as before, with added log transform\n",
    "    SimpleImputer(strategy=\"median\"), # There are a few missing values\n",
    "    FunctionTransformer(lambda x: np.log(np.add(x, 1))), \n",
    "    StandardScaler(),\n",
    ")\n",
    "\n",
    "transformer_cat = make_pipeline(\n",
    "    SimpleImputer(strategy=\"constant\", fill_value=\"NA\"),\n",
    "    OneHotEncoder(sparse_output = False, handle_unknown='ignore'),\n",
    ")\n",
    "\n",
    "\n",
    "preprocessor = make_column_transformer(\n",
    "    (transformer_num,\n",
    "     not_tail_heavy_attributes),\n",
    "    (transformer_num_log,\n",
    "     tail_heavy_attributes),\n",
    "    (transformer_cat,\n",
    "     make_column_selector(dtype_include=object)),\n",
    ")\n",
    "\n",
    "preprocessor.fit(X_train)  # Fit only on training data\n",
    "X_train = preprocessor.transform(X_train)\n",
    "X_valid = preprocessor.transform(X_valid)  # Apply the same transformation to the validation data"
   ]
  },
  {
   "cell_type": "markdown",
   "id": "1939c441",
   "metadata": {
    "papermill": {
     "duration": 0.012849,
     "end_time": "2023-06-16T18:24:50.516339",
     "exception": false,
     "start_time": "2023-06-16T18:24:50.503490",
     "status": "completed"
    },
    "tags": []
   },
   "source": [
    "## Model selection\n",
    "\n",
    "The data is now ready for training. It is time to choose an appropriate model.\n",
    "\n",
    "Having taken a look at the data, the standard approaches would be using an **SVM**, a **random decision forest** or **gradient boosting**. We can also try using **logistic regression** or a small **neural network**.\n",
    "\n",
    "### Setting a baseline - Random Forest\n",
    "\n",
    "Let's use a **random forest** to set a baseline score. Then we will have a reference point for exploring other models."
   ]
  },
  {
   "cell_type": "code",
   "execution_count": 12,
   "id": "d831ae36",
   "metadata": {
    "execution": {
     "iopub.execute_input": "2023-06-16T18:24:50.544813Z",
     "iopub.status.busy": "2023-06-16T18:24:50.543027Z",
     "iopub.status.idle": "2023-06-16T18:24:50.833009Z",
     "shell.execute_reply": "2023-06-16T18:24:50.831098Z"
    },
    "papermill": {
     "duration": 0.306737,
     "end_time": "2023-06-16T18:24:50.835712",
     "exception": false,
     "start_time": "2023-06-16T18:24:50.528975",
     "status": "completed"
    },
    "tags": []
   },
   "outputs": [
    {
     "name": "stdout",
     "output_type": "stream",
     "text": [
      "The score is: 0.42478640270601487\n"
     ]
    }
   ],
   "source": [
    "rf = RandomForestClassifier(random_state=99)\n",
    "rf.fit(X_train, y_train)\n",
    "\n",
    "# Predict probability of sample being in each class\n",
    "y_pred = rf.predict_proba(X_valid) # The columns of y_pred are [P(being in class 0), P(being in class 1)]\n",
    "print('The score is:', balanced_logarithmic_loss(y_true = y_valid , y_pred = y_pred[:,1]))"
   ]
  },
  {
   "cell_type": "markdown",
   "id": "1983ecd8",
   "metadata": {
    "papermill": {
     "duration": 0.012805,
     "end_time": "2023-06-16T18:24:50.861564",
     "exception": false,
     "start_time": "2023-06-16T18:24:50.848759",
     "status": "completed"
    },
    "tags": []
   },
   "source": [
    "We have set a score of around **0.42** with this basic approach.\n",
    "\n",
    "#### Tuning the baseline\n",
    "\n",
    "Let's improve the model further by changing the hyperparameters.\n",
    "\n",
    "We can look at the [sk-learn documentation](https://scikit-learn.org/stable/modules/ensemble.html#parameters) to learn which parameters are recommended to modify.\n",
    "\n",
    "To find the optimal hyperparameters, sk-learn has the ``RandomizedSearchCV`` optimizer. We just have to set the grid that it will search:"
   ]
  },
  {
   "cell_type": "code",
   "execution_count": 13,
   "id": "fd7dbc9b",
   "metadata": {
    "execution": {
     "iopub.execute_input": "2023-06-16T18:24:50.889567Z",
     "iopub.status.busy": "2023-06-16T18:24:50.889228Z",
     "iopub.status.idle": "2023-06-16T18:24:50.896895Z",
     "shell.execute_reply": "2023-06-16T18:24:50.895660Z"
    },
    "papermill": {
     "duration": 0.024409,
     "end_time": "2023-06-16T18:24:50.898932",
     "exception": false,
     "start_time": "2023-06-16T18:24:50.874523",
     "status": "completed"
    },
    "tags": []
   },
   "outputs": [
    {
     "name": "stdout",
     "output_type": "stream",
     "text": [
      "{'bootstrap': [True, False],\n",
      " 'max_depth': [10, 20, 30, 40, 50, 60, 70, 80, 90, 100, None],\n",
      " 'max_features': [None, 'sqrt', 0.3, 1.0],\n",
      " 'min_samples_leaf': [1, 2, 4],\n",
      " 'min_samples_split': [2, 5, 10],\n",
      " 'n_estimators': [100, 200, 300, 400]}\n"
     ]
    }
   ],
   "source": [
    "# Number of trees in random forest\n",
    "n_estimators = [int(x) for x in np.linspace(start = 100, stop = 400, num = 4)]\n",
    "# Number of features to consider at every split\n",
    "max_features = [None, 'sqrt', 0.3, 1.0]\n",
    "# Maximum number of levels in tree\n",
    "max_depth = [int(x) for x in np.linspace(10, 100, num = 10)]\n",
    "max_depth.append(None)\n",
    "# Minimum number of samples required to split a node\n",
    "min_samples_split = [2, 5, 10]\n",
    "# Minimum number of samples required at each leaf node\n",
    "min_samples_leaf = [1, 2, 4]\n",
    "# Method of selecting samples for training each tree\n",
    "bootstrap = [True, False]\n",
    "\n",
    "# Create the random grid\n",
    "random_grid = {'n_estimators': n_estimators,\n",
    "               'max_features': max_features,\n",
    "               'max_depth': max_depth,\n",
    "               'min_samples_split': min_samples_split,\n",
    "               'min_samples_leaf': min_samples_leaf,\n",
    "               'bootstrap': bootstrap}\n",
    "pprint(random_grid)"
   ]
  },
  {
   "cell_type": "code",
   "execution_count": 14,
   "id": "96068818",
   "metadata": {
    "_kg_hide-output": true,
    "execution": {
     "iopub.execute_input": "2023-06-16T18:24:50.927339Z",
     "iopub.status.busy": "2023-06-16T18:24:50.926969Z",
     "iopub.status.idle": "2023-06-16T18:27:19.518646Z",
     "shell.execute_reply": "2023-06-16T18:27:19.517231Z"
    },
    "papermill": {
     "duration": 148.620572,
     "end_time": "2023-06-16T18:27:19.532774",
     "exception": false,
     "start_time": "2023-06-16T18:24:50.912202",
     "status": "completed"
    },
    "tags": []
   },
   "outputs": [
    {
     "name": "stdout",
     "output_type": "stream",
     "text": [
      "Fitting 3 folds for each of 100 candidates, totalling 300 fits\n"
     ]
    },
    {
     "data": {
      "text/html": [
       "<style>#sk-container-id-1 {color: black;background-color: white;}#sk-container-id-1 pre{padding: 0;}#sk-container-id-1 div.sk-toggleable {background-color: white;}#sk-container-id-1 label.sk-toggleable__label {cursor: pointer;display: block;width: 100%;margin-bottom: 0;padding: 0.3em;box-sizing: border-box;text-align: center;}#sk-container-id-1 label.sk-toggleable__label-arrow:before {content: \"▸\";float: left;margin-right: 0.25em;color: #696969;}#sk-container-id-1 label.sk-toggleable__label-arrow:hover:before {color: black;}#sk-container-id-1 div.sk-estimator:hover label.sk-toggleable__label-arrow:before {color: black;}#sk-container-id-1 div.sk-toggleable__content {max-height: 0;max-width: 0;overflow: hidden;text-align: left;background-color: #f0f8ff;}#sk-container-id-1 div.sk-toggleable__content pre {margin: 0.2em;color: black;border-radius: 0.25em;background-color: #f0f8ff;}#sk-container-id-1 input.sk-toggleable__control:checked~div.sk-toggleable__content {max-height: 200px;max-width: 100%;overflow: auto;}#sk-container-id-1 input.sk-toggleable__control:checked~label.sk-toggleable__label-arrow:before {content: \"▾\";}#sk-container-id-1 div.sk-estimator input.sk-toggleable__control:checked~label.sk-toggleable__label {background-color: #d4ebff;}#sk-container-id-1 div.sk-label input.sk-toggleable__control:checked~label.sk-toggleable__label {background-color: #d4ebff;}#sk-container-id-1 input.sk-hidden--visually {border: 0;clip: rect(1px 1px 1px 1px);clip: rect(1px, 1px, 1px, 1px);height: 1px;margin: -1px;overflow: hidden;padding: 0;position: absolute;width: 1px;}#sk-container-id-1 div.sk-estimator {font-family: monospace;background-color: #f0f8ff;border: 1px dotted black;border-radius: 0.25em;box-sizing: border-box;margin-bottom: 0.5em;}#sk-container-id-1 div.sk-estimator:hover {background-color: #d4ebff;}#sk-container-id-1 div.sk-parallel-item::after {content: \"\";width: 100%;border-bottom: 1px solid gray;flex-grow: 1;}#sk-container-id-1 div.sk-label:hover label.sk-toggleable__label {background-color: #d4ebff;}#sk-container-id-1 div.sk-serial::before {content: \"\";position: absolute;border-left: 1px solid gray;box-sizing: border-box;top: 0;bottom: 0;left: 50%;z-index: 0;}#sk-container-id-1 div.sk-serial {display: flex;flex-direction: column;align-items: center;background-color: white;padding-right: 0.2em;padding-left: 0.2em;position: relative;}#sk-container-id-1 div.sk-item {position: relative;z-index: 1;}#sk-container-id-1 div.sk-parallel {display: flex;align-items: stretch;justify-content: center;background-color: white;position: relative;}#sk-container-id-1 div.sk-item::before, #sk-container-id-1 div.sk-parallel-item::before {content: \"\";position: absolute;border-left: 1px solid gray;box-sizing: border-box;top: 0;bottom: 0;left: 50%;z-index: -1;}#sk-container-id-1 div.sk-parallel-item {display: flex;flex-direction: column;z-index: 1;position: relative;background-color: white;}#sk-container-id-1 div.sk-parallel-item:first-child::after {align-self: flex-end;width: 50%;}#sk-container-id-1 div.sk-parallel-item:last-child::after {align-self: flex-start;width: 50%;}#sk-container-id-1 div.sk-parallel-item:only-child::after {width: 0;}#sk-container-id-1 div.sk-dashed-wrapped {border: 1px dashed gray;margin: 0 0.4em 0.5em 0.4em;box-sizing: border-box;padding-bottom: 0.4em;background-color: white;}#sk-container-id-1 div.sk-label label {font-family: monospace;font-weight: bold;display: inline-block;line-height: 1.2em;}#sk-container-id-1 div.sk-label-container {text-align: center;}#sk-container-id-1 div.sk-container {/* jupyter's `normalize.less` sets `[hidden] { display: none; }` but bootstrap.min.css set `[hidden] { display: none !important; }` so we also need the `!important` here to be able to override the default hidden behavior on the sphinx rendered scikit-learn.org. See: https://github.com/scikit-learn/scikit-learn/issues/21755 */display: inline-block !important;position: relative;}#sk-container-id-1 div.sk-text-repr-fallback {display: none;}</style><div id=\"sk-container-id-1\" class=\"sk-top-container\"><div class=\"sk-text-repr-fallback\"><pre>RandomizedSearchCV(cv=3, estimator=RandomForestClassifier(), n_iter=100,\n",
       "                   n_jobs=-1,\n",
       "                   param_distributions={&#x27;bootstrap&#x27;: [True, False],\n",
       "                                        &#x27;max_depth&#x27;: [10, 20, 30, 40, 50, 60,\n",
       "                                                      70, 80, 90, 100, None],\n",
       "                                        &#x27;max_features&#x27;: [None, &#x27;sqrt&#x27;, 0.3,\n",
       "                                                         1.0],\n",
       "                                        &#x27;min_samples_leaf&#x27;: [1, 2, 4],\n",
       "                                        &#x27;min_samples_split&#x27;: [2, 5, 10],\n",
       "                                        &#x27;n_estimators&#x27;: [100, 200, 300, 400]},\n",
       "                   random_state=99, verbose=1)</pre><b>In a Jupyter environment, please rerun this cell to show the HTML representation or trust the notebook. <br />On GitHub, the HTML representation is unable to render, please try loading this page with nbviewer.org.</b></div><div class=\"sk-container\" hidden><div class=\"sk-item sk-dashed-wrapped\"><div class=\"sk-label-container\"><div class=\"sk-label sk-toggleable\"><input class=\"sk-toggleable__control sk-hidden--visually\" id=\"sk-estimator-id-1\" type=\"checkbox\" ><label for=\"sk-estimator-id-1\" class=\"sk-toggleable__label sk-toggleable__label-arrow\">RandomizedSearchCV</label><div class=\"sk-toggleable__content\"><pre>RandomizedSearchCV(cv=3, estimator=RandomForestClassifier(), n_iter=100,\n",
       "                   n_jobs=-1,\n",
       "                   param_distributions={&#x27;bootstrap&#x27;: [True, False],\n",
       "                                        &#x27;max_depth&#x27;: [10, 20, 30, 40, 50, 60,\n",
       "                                                      70, 80, 90, 100, None],\n",
       "                                        &#x27;max_features&#x27;: [None, &#x27;sqrt&#x27;, 0.3,\n",
       "                                                         1.0],\n",
       "                                        &#x27;min_samples_leaf&#x27;: [1, 2, 4],\n",
       "                                        &#x27;min_samples_split&#x27;: [2, 5, 10],\n",
       "                                        &#x27;n_estimators&#x27;: [100, 200, 300, 400]},\n",
       "                   random_state=99, verbose=1)</pre></div></div></div><div class=\"sk-parallel\"><div class=\"sk-parallel-item\"><div class=\"sk-item\"><div class=\"sk-label-container\"><div class=\"sk-label sk-toggleable\"><input class=\"sk-toggleable__control sk-hidden--visually\" id=\"sk-estimator-id-2\" type=\"checkbox\" ><label for=\"sk-estimator-id-2\" class=\"sk-toggleable__label sk-toggleable__label-arrow\">estimator: RandomForestClassifier</label><div class=\"sk-toggleable__content\"><pre>RandomForestClassifier()</pre></div></div></div><div class=\"sk-serial\"><div class=\"sk-item\"><div class=\"sk-estimator sk-toggleable\"><input class=\"sk-toggleable__control sk-hidden--visually\" id=\"sk-estimator-id-3\" type=\"checkbox\" ><label for=\"sk-estimator-id-3\" class=\"sk-toggleable__label sk-toggleable__label-arrow\">RandomForestClassifier</label><div class=\"sk-toggleable__content\"><pre>RandomForestClassifier()</pre></div></div></div></div></div></div></div></div></div></div>"
      ],
      "text/plain": [
       "RandomizedSearchCV(cv=3, estimator=RandomForestClassifier(), n_iter=100,\n",
       "                   n_jobs=-1,\n",
       "                   param_distributions={'bootstrap': [True, False],\n",
       "                                        'max_depth': [10, 20, 30, 40, 50, 60,\n",
       "                                                      70, 80, 90, 100, None],\n",
       "                                        'max_features': [None, 'sqrt', 0.3,\n",
       "                                                         1.0],\n",
       "                                        'min_samples_leaf': [1, 2, 4],\n",
       "                                        'min_samples_split': [2, 5, 10],\n",
       "                                        'n_estimators': [100, 200, 300, 400]},\n",
       "                   random_state=99, verbose=1)"
      ]
     },
     "execution_count": 14,
     "metadata": {},
     "output_type": "execute_result"
    }
   ],
   "source": [
    "rf = RandomForestClassifier()\n",
    "rf_random = RandomizedSearchCV(\n",
    "    estimator = rf, \n",
    "    param_distributions = random_grid, \n",
    "    n_iter = 100, \n",
    "    cv = 3, # 3-fold cross validation \n",
    "    verbose = 1, \n",
    "    random_state = 99, \n",
    "    n_jobs = -1 # use all processors\n",
    ")\n",
    "rf_random.fit(X_train, y_train)"
   ]
  },
  {
   "cell_type": "code",
   "execution_count": 15,
   "id": "29c30c9b",
   "metadata": {
    "execution": {
     "iopub.execute_input": "2023-06-16T18:27:19.562451Z",
     "iopub.status.busy": "2023-06-16T18:27:19.561918Z",
     "iopub.status.idle": "2023-06-16T18:27:19.612883Z",
     "shell.execute_reply": "2023-06-16T18:27:19.611094Z"
    },
    "papermill": {
     "duration": 0.06884,
     "end_time": "2023-06-16T18:27:19.615314",
     "exception": false,
     "start_time": "2023-06-16T18:27:19.546474",
     "status": "completed"
    },
    "tags": []
   },
   "outputs": [
    {
     "name": "stdout",
     "output_type": "stream",
     "text": [
      "The tuned score is: 0.36068258740636294\n",
      "The accuracy is: 0.9274193548387096\n",
      "\n",
      "The best parameters are: {'n_estimators': 200, 'min_samples_split': 2, 'min_samples_leaf': 2, 'max_features': 0.3, 'max_depth': 100, 'bootstrap': False}\n"
     ]
    }
   ],
   "source": [
    "y_pred = rf_random.predict_proba(X_valid) # The columns of y_pred are [P(being in class 0), P(being in class 1)]\n",
    "print('The tuned score is:', balanced_logarithmic_loss(y_true = y_valid , y_pred = y_pred[:,1]))\n",
    "\n",
    "binary_y_pred = rf_random.predict(X_valid) # y_pred is a 1D array with the actual predictions (zeros and ones)\n",
    "print('The accuracy is:', accuracy_score(y_valid, binary_y_pred))\n",
    "\n",
    "print('\\nThe best parameters are:', rf_random.best_params_)"
   ]
  },
  {
   "cell_type": "markdown",
   "id": "38600087",
   "metadata": {
    "papermill": {
     "duration": 0.013139,
     "end_time": "2023-06-16T18:27:19.642154",
     "exception": false,
     "start_time": "2023-06-16T18:27:19.629015",
     "status": "completed"
    },
    "tags": []
   },
   "source": [
    "With some basic hp-tuning, we got a better score of around **0.38**.\n",
    "It would be possible to tune it further, but we can do it after exploring other models.\n",
    "\n",
    "### Gradient Boosting\n",
    "Usually gradient boosting can achieve a better accuracy score than a basic random forest. We can use the ``LightGBM`` library:"
   ]
  },
  {
   "cell_type": "code",
   "execution_count": 16,
   "id": "b9350790",
   "metadata": {
    "_kg_hide-output": true,
    "execution": {
     "iopub.execute_input": "2023-06-16T18:27:19.670914Z",
     "iopub.status.busy": "2023-06-16T18:27:19.670564Z",
     "iopub.status.idle": "2023-06-16T18:27:20.073420Z",
     "shell.execute_reply": "2023-06-16T18:27:20.072261Z"
    },
    "papermill": {
     "duration": 0.420458,
     "end_time": "2023-06-16T18:27:20.076219",
     "exception": false,
     "start_time": "2023-06-16T18:27:19.655761",
     "status": "completed"
    },
    "tags": []
   },
   "outputs": [
    {
     "name": "stdout",
     "output_type": "stream",
     "text": [
      "[LightGBM] [Info] Number of positive: 86, number of negative: 407\n",
      "[LightGBM] [Warning] Auto-choosing row-wise multi-threading, the overhead of testing was 0.003833 seconds.\n",
      "You can set `force_row_wise=true` to remove the overhead.\n",
      "And if memory is not enough, you can set `force_col_wise=true`.\n",
      "[LightGBM] [Info] Total Bins 6953\n",
      "[LightGBM] [Info] Number of data points in the train set: 493, number of used features: 57\n",
      "[LightGBM] [Info] [binary:BoostFromScore]: pavg=0.174442 -> initscore=-1.554466\n",
      "[LightGBM] [Info] Start training from score -1.554466\n",
      "[LightGBM] [Warning] No further splits with positive gain, best gain: -inf\n",
      "Training until validation scores don't improve for 5 rounds\n",
      "[LightGBM] [Warning] No further splits with positive gain, best gain: -inf\n",
      "[LightGBM] [Warning] No further splits with positive gain, best gain: -inf\n",
      "[LightGBM] [Warning] No further splits with positive gain, best gain: -inf\n",
      "[LightGBM] [Warning] No further splits with positive gain, best gain: -inf\n",
      "[LightGBM] [Warning] No further splits with positive gain, best gain: -inf\n",
      "[LightGBM] [Warning] No further splits with positive gain, best gain: -inf\n",
      "[LightGBM] [Warning] No further splits with positive gain, best gain: -inf\n",
      "[LightGBM] [Warning] No further splits with positive gain, best gain: -inf\n",
      "[LightGBM] [Warning] No further splits with positive gain, best gain: -inf\n",
      "[LightGBM] [Warning] No further splits with positive gain, best gain: -inf\n",
      "[LightGBM] [Warning] No further splits with positive gain, best gain: -inf\n",
      "[LightGBM] [Warning] No further splits with positive gain, best gain: -inf\n",
      "[LightGBM] [Warning] No further splits with positive gain, best gain: -inf\n",
      "[LightGBM] [Warning] No further splits with positive gain, best gain: -inf\n",
      "[LightGBM] [Warning] No further splits with positive gain, best gain: -inf\n",
      "[LightGBM] [Warning] No further splits with positive gain, best gain: -inf\n",
      "[LightGBM] [Warning] No further splits with positive gain, best gain: -inf\n",
      "[LightGBM] [Warning] No further splits with positive gain, best gain: -inf\n",
      "[LightGBM] [Warning] No further splits with positive gain, best gain: -inf\n",
      "[LightGBM] [Warning] No further splits with positive gain, best gain: -inf\n",
      "[LightGBM] [Warning] No further splits with positive gain, best gain: -inf\n",
      "[LightGBM] [Warning] No further splits with positive gain, best gain: -inf\n",
      "[LightGBM] [Warning] No further splits with positive gain, best gain: -inf\n",
      "[LightGBM] [Warning] No further splits with positive gain, best gain: -inf\n",
      "[LightGBM] [Warning] No further splits with positive gain, best gain: -inf\n",
      "[LightGBM] [Warning] No further splits with positive gain, best gain: -inf\n",
      "[LightGBM] [Warning] No further splits with positive gain, best gain: -inf\n",
      "[LightGBM] [Warning] No further splits with positive gain, best gain: -inf\n",
      "[LightGBM] [Warning] No further splits with positive gain, best gain: -inf\n",
      "[LightGBM] [Warning] No further splits with positive gain, best gain: -inf\n",
      "[LightGBM] [Warning] No further splits with positive gain, best gain: -inf\n",
      "[LightGBM] [Warning] No further splits with positive gain, best gain: -inf\n",
      "[LightGBM] [Warning] No further splits with positive gain, best gain: -inf\n",
      "[LightGBM] [Warning] No further splits with positive gain, best gain: -inf\n",
      "[LightGBM] [Warning] No further splits with positive gain, best gain: -inf\n",
      "[LightGBM] [Warning] No further splits with positive gain, best gain: -inf\n",
      "[LightGBM] [Warning] No further splits with positive gain, best gain: -inf\n",
      "[LightGBM] [Warning] No further splits with positive gain, best gain: -inf\n",
      "[LightGBM] [Warning] No further splits with positive gain, best gain: -inf\n",
      "[LightGBM] [Warning] No further splits with positive gain, best gain: -inf\n",
      "[LightGBM] [Warning] No further splits with positive gain, best gain: -inf\n",
      "[LightGBM] [Warning] No further splits with positive gain, best gain: -inf\n",
      "[LightGBM] [Warning] No further splits with positive gain, best gain: -inf\n",
      "[LightGBM] [Warning] No further splits with positive gain, best gain: -inf\n",
      "[LightGBM] [Warning] No further splits with positive gain, best gain: -inf\n",
      "[LightGBM] [Warning] No further splits with positive gain, best gain: -inf\n",
      "[LightGBM] [Warning] No further splits with positive gain, best gain: -inf\n",
      "[LightGBM] [Warning] No further splits with positive gain, best gain: -inf\n",
      "[LightGBM] [Warning] No further splits with positive gain, best gain: -inf\n",
      "[LightGBM] [Warning] No further splits with positive gain, best gain: -inf\n",
      "[LightGBM] [Warning] No further splits with positive gain, best gain: -inf\n",
      "Early stopping, best iteration is:\n",
      "[47]\tvalid_0's binary_logloss: 0.154593\n"
     ]
    }
   ],
   "source": [
    "lgb_train, lgb_valid = lgb.Dataset(X_train, label=y_train), lgb.Dataset(X_valid, label=y_valid)\n",
    "\n",
    "params = {'objective': 'binary',\n",
    "          'metric': 'binary_logloss',\n",
    "         }\n",
    "\n",
    "\n",
    "gbm = lgb.train(params, train_set = lgb_train, num_boost_round = 60, valid_sets=[lgb_valid], callbacks=[lgb.early_stopping(stopping_rounds=5)])"
   ]
  },
  {
   "cell_type": "code",
   "execution_count": 17,
   "id": "d29f4396",
   "metadata": {
    "execution": {
     "iopub.execute_input": "2023-06-16T18:27:20.105932Z",
     "iopub.status.busy": "2023-06-16T18:27:20.105583Z",
     "iopub.status.idle": "2023-06-16T18:27:20.114619Z",
     "shell.execute_reply": "2023-06-16T18:27:20.113002Z"
    },
    "papermill": {
     "duration": 0.026683,
     "end_time": "2023-06-16T18:27:20.117098",
     "exception": false,
     "start_time": "2023-06-16T18:27:20.090415",
     "status": "completed"
    },
    "tags": []
   },
   "outputs": [
    {
     "name": "stdout",
     "output_type": "stream",
     "text": [
      "\n",
      "The score is: 0.363693563762105\n"
     ]
    }
   ],
   "source": [
    "y_pred = gbm.predict(X_valid, num_iteration = gbm.best_iteration)\n",
    "print('\\nThe score is:', balanced_logarithmic_loss(y_true = y_valid , y_pred = y_pred))"
   ]
  },
  {
   "cell_type": "markdown",
   "id": "0a2a8fea",
   "metadata": {
    "papermill": {
     "duration": 0.01378,
     "end_time": "2023-06-16T18:27:20.145079",
     "exception": false,
     "start_time": "2023-06-16T18:27:20.131299",
     "status": "completed"
    },
    "tags": []
   },
   "source": [
    "As expected, the GBM performs better than even the tuned random forest, achieving a score of around **0.36**. \n",
    "\n",
    "Tuning it manually (or automatically using `Optuna`) may lower it further."
   ]
  },
  {
   "cell_type": "markdown",
   "id": "79aaed02",
   "metadata": {
    "papermill": {
     "duration": 0.013528,
     "end_time": "2023-06-16T18:27:20.172546",
     "exception": false,
     "start_time": "2023-06-16T18:27:20.159018",
     "status": "completed"
    },
    "tags": []
   },
   "source": [
    "### SVM\n",
    "\n",
    "Support vector machines have a low computational cost, while retaining good accuracy.\n",
    "\n",
    "The output of an SVM does not give an approximate probability, and has to be modified to fit the constraints of the problem. Here we are using the `predict_proba()` method to do that. This inference of probability is not perfect. We may be introducing error by doing this, but it is hard to imagine a better way.\n",
    "\n",
    "The evaluation is based on the balanced log loss, therefore an SVM may be inferior to the previous methods.\n",
    "\n",
    "We can test a few of them below:"
   ]
  },
  {
   "cell_type": "code",
   "execution_count": 18,
   "id": "4532c2df",
   "metadata": {
    "execution": {
     "iopub.execute_input": "2023-06-16T18:27:20.203148Z",
     "iopub.status.busy": "2023-06-16T18:27:20.202771Z",
     "iopub.status.idle": "2023-06-16T18:27:20.381817Z",
     "shell.execute_reply": "2023-06-16T18:27:20.380859Z"
    },
    "papermill": {
     "duration": 0.195989,
     "end_time": "2023-06-16T18:27:20.383730",
     "exception": false,
     "start_time": "2023-06-16T18:27:20.187741",
     "status": "completed"
    },
    "tags": []
   },
   "outputs": [
    {
     "name": "stdout",
     "output_type": "stream",
     "text": [
      "------------Linear SVM------------\n",
      "\n",
      "The accuracy is: 0.9112903225806451\n",
      "\n",
      "The score is: 0.48189647513255157\n",
      "\n",
      "----------Polynomial SVM----------\n",
      "\n",
      "The accuracy is: 0.8870967741935484\n",
      "\n",
      "The score is: 0.512405243091666\n",
      "\n",
      "------------Radial SVM------------\n",
      "\n",
      "The accuracy is: 0.8225806451612904\n",
      "\n",
      "The score is: 0.983876439323679\n"
     ]
    }
   ],
   "source": [
    "def print_score(y_pred, y_valid, binary_y_pred):\n",
    "    print('\\nThe accuracy is:', accuracy_score(y_valid, binary_y_pred))\n",
    "    print('\\nThe score is:', balanced_logarithmic_loss(y_true = y_valid , y_pred = y_pred[:,1]))  \n",
    "\n",
    "print('------------Linear SVM------------')\n",
    "linear_svm = SVC(kernel='linear', probability = True, random_state = 99)\n",
    "linear_svm.fit(X_train, y_train)\n",
    "\n",
    "binary_y_pred = linear_svm.predict(X_valid)\n",
    "y_pred = linear_svm.predict_proba(X_valid)\n",
    "\n",
    "\n",
    "print_score(y_pred, y_valid, binary_y_pred)\n",
    "\n",
    "\n",
    "\n",
    "print('\\n----------Polynomial SVM----------')\n",
    "poly_svm = SVC(kernel='poly', degree=2, gamma='auto', probability = True, random_state = 99)\n",
    "poly_svm.fit(X_train, y_train)\n",
    "\n",
    "binary_y_pred = poly_svm.predict(X_valid)\n",
    "y_pred = poly_svm.predict_proba(X_valid)\n",
    "\n",
    "print_score(y_pred, y_valid, binary_y_pred)\n",
    "\n",
    "\n",
    "\n",
    "print('\\n------------Radial SVM------------')\n",
    "radial_svm = SVC(kernel='rbf', gamma=1, probability = True, random_state = 99)\n",
    "radial_svm.fit(X_train, y_train)\n",
    "\n",
    "binary_y_pred = radial_svm.predict(X_valid)\n",
    "y_pred = radial_svm.predict_proba(X_valid)\n",
    "\n",
    "print_score(y_pred, y_valid, binary_y_pred)"
   ]
  },
  {
   "cell_type": "markdown",
   "id": "3e01919a",
   "metadata": {
    "papermill": {
     "duration": 0.013753,
     "end_time": "2023-06-16T18:27:20.411765",
     "exception": false,
     "start_time": "2023-06-16T18:27:20.398012",
     "status": "completed"
    },
    "tags": []
   },
   "source": [
    "The best score we got is around **0.48** on the linear SVM. The score may be improved by tuning.\n",
    "\n",
    "The accuracy scores were also lower than the tuned random forest.\n",
    "\n",
    "#### Tuning the SVM\n",
    "\n",
    "In this case there are less hyperparameters, so using a `GridSearchCV` is not as computationally intensive. "
   ]
  },
  {
   "cell_type": "code",
   "execution_count": 19,
   "id": "13ebcb04",
   "metadata": {
    "execution": {
     "iopub.execute_input": "2023-06-16T18:27:20.441345Z",
     "iopub.status.busy": "2023-06-16T18:27:20.440950Z",
     "iopub.status.idle": "2023-06-16T18:28:15.004876Z",
     "shell.execute_reply": "2023-06-16T18:28:15.002994Z"
    },
    "papermill": {
     "duration": 54.586153,
     "end_time": "2023-06-16T18:28:15.011788",
     "exception": false,
     "start_time": "2023-06-16T18:27:20.425635",
     "status": "completed"
    },
    "tags": []
   },
   "outputs": [
    {
     "name": "stdout",
     "output_type": "stream",
     "text": [
      "Fitting 5 folds for each of 126 candidates, totalling 630 fits\n",
      "Best params: {'C': 0.1, 'gamma': 1, 'kernel': 'linear', 'probability': True, 'random_state': 99}\n",
      "\n",
      "The accuracy is: 0.9112903225806451\n",
      "\n",
      "The score is: 0.43458417967586405\n"
     ]
    }
   ],
   "source": [
    "param_grid = {'C': [0.01, 0.1, 0.5, 1, 10, 100], \n",
    "              'gamma': [1, 0.75, 0.5, 0.25, 0.1, 0.01, 0.001], \n",
    "              'kernel': ['rbf', 'poly', 'linear'],\n",
    "              'probability': [True],\n",
    "              'random_state': [99]\n",
    "             } \n",
    "\n",
    "grid = GridSearchCV(SVC(), param_grid, refit=True, verbose=1, cv=5)\n",
    "grid.fit(X_train, y_train)\n",
    "best_params = grid.best_params_\n",
    "print(f\"Best params: {best_params}\")\n",
    "\n",
    "best_svm = SVC(**best_params)\n",
    "best_svm.fit(X_train, y_train)\n",
    "\n",
    "binary_y_pred = best_svm.predict(X_valid)\n",
    "y_pred = best_svm.predict_proba(X_valid)\n",
    "\n",
    "print_score(y_pred, y_valid, binary_y_pred)"
   ]
  },
  {
   "cell_type": "markdown",
   "id": "1ad489c5",
   "metadata": {
    "papermill": {
     "duration": 0.013494,
     "end_time": "2023-06-16T18:28:15.038985",
     "exception": false,
     "start_time": "2023-06-16T18:28:15.025491",
     "status": "completed"
    },
    "tags": []
   },
   "source": [
    "The model has improved giving a score of **0.43**, but it still is performing worse than our baseline."
   ]
  },
  {
   "cell_type": "markdown",
   "id": "81aefecc",
   "metadata": {
    "papermill": {
     "duration": 0.015611,
     "end_time": "2023-06-16T18:28:15.069619",
     "exception": false,
     "start_time": "2023-06-16T18:28:15.054008",
     "status": "completed"
    },
    "tags": []
   },
   "source": [
    "### Neural Network\n",
    "On small datasets, neural networks tend to overfit. To prevent this we will use a simple model with two **hidden layers** and set up **dropout layers**.\n",
    "\n",
    "For the output, we use a **sigmoid** activation layer, representing the probability of a sample being in ``Class 1``."
   ]
  },
  {
   "cell_type": "code",
   "execution_count": 20,
   "id": "d92abb96",
   "metadata": {
    "execution": {
     "iopub.execute_input": "2023-06-16T18:28:15.099795Z",
     "iopub.status.busy": "2023-06-16T18:28:15.099472Z",
     "iopub.status.idle": "2023-06-16T18:28:15.362928Z",
     "shell.execute_reply": "2023-06-16T18:28:15.361558Z"
    },
    "papermill": {
     "duration": 0.281639,
     "end_time": "2023-06-16T18:28:15.365656",
     "exception": false,
     "start_time": "2023-06-16T18:28:15.084017",
     "status": "completed"
    },
    "tags": []
   },
   "outputs": [],
   "source": [
    "tf.random.set_seed(99)\n",
    "model = keras.Sequential([\n",
    "    layers.BatchNormalization(input_shape = [X_train.shape[1]]),\n",
    "    \n",
    "    layers.Dense(128, activation = 'elu'),\n",
    "    layers.BatchNormalization(),\n",
    "    layers.Dropout(0.3),\n",
    "    \n",
    "\n",
    "    layers.Dense(8, activation = 'elu'),\n",
    "    layers.BatchNormalization(),\n",
    "    layers.Dropout(.125),\n",
    "    \n",
    "    layers.Dense(1, activation = 'sigmoid')\n",
    "])"
   ]
  },
  {
   "cell_type": "code",
   "execution_count": 21,
   "id": "04fcaa98",
   "metadata": {
    "execution": {
     "iopub.execute_input": "2023-06-16T18:28:15.395296Z",
     "iopub.status.busy": "2023-06-16T18:28:15.394895Z",
     "iopub.status.idle": "2023-06-16T18:28:15.415508Z",
     "shell.execute_reply": "2023-06-16T18:28:15.413530Z"
    },
    "papermill": {
     "duration": 0.038671,
     "end_time": "2023-06-16T18:28:15.418425",
     "exception": false,
     "start_time": "2023-06-16T18:28:15.379754",
     "status": "completed"
    },
    "tags": []
   },
   "outputs": [],
   "source": [
    "model.compile(\n",
    "    optimizer = 'adam',\n",
    "    metrics = ['binary_accuracy'],\n",
    "    loss = 'binary_crossentropy',\n",
    ")"
   ]
  },
  {
   "cell_type": "code",
   "execution_count": 22,
   "id": "1bf0ec29",
   "metadata": {
    "_kg_hide-output": true,
    "execution": {
     "iopub.execute_input": "2023-06-16T18:28:15.448853Z",
     "iopub.status.busy": "2023-06-16T18:28:15.448503Z",
     "iopub.status.idle": "2023-06-16T18:28:23.453861Z",
     "shell.execute_reply": "2023-06-16T18:28:23.452658Z"
    },
    "papermill": {
     "duration": 8.023593,
     "end_time": "2023-06-16T18:28:23.456219",
     "exception": false,
     "start_time": "2023-06-16T18:28:15.432626",
     "status": "completed"
    },
    "tags": []
   },
   "outputs": [
    {
     "name": "stdout",
     "output_type": "stream",
     "text": [
      "Epoch 1/200\n",
      "2/2 [==============================] - 2s 253ms/step - loss: 0.8904 - binary_accuracy: 0.4604 - val_loss: 0.6741 - val_binary_accuracy: 0.6290\n",
      "Epoch 2/200\n",
      "2/2 [==============================] - 0s 31ms/step - loss: 0.7684 - binary_accuracy: 0.5274 - val_loss: 0.6298 - val_binary_accuracy: 0.6371\n",
      "Epoch 3/200\n",
      "2/2 [==============================] - 0s 29ms/step - loss: 0.7282 - binary_accuracy: 0.5781 - val_loss: 0.5932 - val_binary_accuracy: 0.6774\n",
      "Epoch 4/200\n",
      "2/2 [==============================] - 0s 32ms/step - loss: 0.7205 - binary_accuracy: 0.5842 - val_loss: 0.5640 - val_binary_accuracy: 0.6935\n",
      "Epoch 5/200\n",
      "2/2 [==============================] - 0s 30ms/step - loss: 0.6636 - binary_accuracy: 0.6227 - val_loss: 0.5407 - val_binary_accuracy: 0.7177\n",
      "Epoch 6/200\n",
      "2/2 [==============================] - 0s 29ms/step - loss: 0.6382 - binary_accuracy: 0.6207 - val_loss: 0.5210 - val_binary_accuracy: 0.7258\n",
      "Epoch 7/200\n",
      "2/2 [==============================] - 0s 32ms/step - loss: 0.6202 - binary_accuracy: 0.6552 - val_loss: 0.5047 - val_binary_accuracy: 0.7500\n",
      "Epoch 8/200\n",
      "2/2 [==============================] - 0s 33ms/step - loss: 0.5894 - binary_accuracy: 0.6815 - val_loss: 0.4909 - val_binary_accuracy: 0.7581\n",
      "Epoch 9/200\n",
      "2/2 [==============================] - 0s 33ms/step - loss: 0.5961 - binary_accuracy: 0.6734 - val_loss: 0.4783 - val_binary_accuracy: 0.8145\n",
      "Epoch 10/200\n",
      "2/2 [==============================] - 0s 35ms/step - loss: 0.5784 - binary_accuracy: 0.6815 - val_loss: 0.4671 - val_binary_accuracy: 0.8145\n",
      "Epoch 11/200\n",
      "2/2 [==============================] - 0s 34ms/step - loss: 0.5377 - binary_accuracy: 0.7404 - val_loss: 0.4573 - val_binary_accuracy: 0.8226\n",
      "Epoch 12/200\n",
      "2/2 [==============================] - 0s 31ms/step - loss: 0.5556 - binary_accuracy: 0.6978 - val_loss: 0.4484 - val_binary_accuracy: 0.8226\n",
      "Epoch 13/200\n",
      "2/2 [==============================] - 0s 28ms/step - loss: 0.5471 - binary_accuracy: 0.7039 - val_loss: 0.4396 - val_binary_accuracy: 0.8306\n",
      "Epoch 14/200\n",
      "2/2 [==============================] - 0s 27ms/step - loss: 0.5263 - binary_accuracy: 0.7566 - val_loss: 0.4319 - val_binary_accuracy: 0.8306\n",
      "Epoch 15/200\n",
      "2/2 [==============================] - 0s 29ms/step - loss: 0.5199 - binary_accuracy: 0.7383 - val_loss: 0.4245 - val_binary_accuracy: 0.8468\n",
      "Epoch 16/200\n",
      "2/2 [==============================] - 0s 29ms/step - loss: 0.5007 - binary_accuracy: 0.7627 - val_loss: 0.4176 - val_binary_accuracy: 0.8548\n",
      "Epoch 17/200\n",
      "2/2 [==============================] - 0s 29ms/step - loss: 0.5151 - binary_accuracy: 0.7667 - val_loss: 0.4112 - val_binary_accuracy: 0.8629\n",
      "Epoch 18/200\n",
      "2/2 [==============================] - 0s 33ms/step - loss: 0.4844 - binary_accuracy: 0.7708 - val_loss: 0.4049 - val_binary_accuracy: 0.8629\n",
      "Epoch 19/200\n",
      "2/2 [==============================] - 0s 29ms/step - loss: 0.4900 - binary_accuracy: 0.7769 - val_loss: 0.3991 - val_binary_accuracy: 0.8629\n",
      "Epoch 20/200\n",
      "2/2 [==============================] - 0s 32ms/step - loss: 0.4932 - binary_accuracy: 0.7525 - val_loss: 0.3932 - val_binary_accuracy: 0.8629\n",
      "Epoch 21/200\n",
      "2/2 [==============================] - 0s 31ms/step - loss: 0.4737 - binary_accuracy: 0.7931 - val_loss: 0.3873 - val_binary_accuracy: 0.8629\n",
      "Epoch 22/200\n",
      "2/2 [==============================] - 0s 28ms/step - loss: 0.4785 - binary_accuracy: 0.7748 - val_loss: 0.3816 - val_binary_accuracy: 0.8629\n",
      "Epoch 23/200\n",
      "2/2 [==============================] - 0s 32ms/step - loss: 0.4599 - binary_accuracy: 0.8134 - val_loss: 0.3757 - val_binary_accuracy: 0.8629\n",
      "Epoch 24/200\n",
      "2/2 [==============================] - 0s 31ms/step - loss: 0.4582 - binary_accuracy: 0.8114 - val_loss: 0.3703 - val_binary_accuracy: 0.8629\n",
      "Epoch 25/200\n",
      "2/2 [==============================] - 0s 34ms/step - loss: 0.4592 - binary_accuracy: 0.8093 - val_loss: 0.3650 - val_binary_accuracy: 0.8710\n",
      "Epoch 26/200\n",
      "2/2 [==============================] - 0s 30ms/step - loss: 0.4510 - binary_accuracy: 0.7931 - val_loss: 0.3601 - val_binary_accuracy: 0.8710\n",
      "Epoch 27/200\n",
      "2/2 [==============================] - 0s 34ms/step - loss: 0.4364 - binary_accuracy: 0.8053 - val_loss: 0.3552 - val_binary_accuracy: 0.8710\n",
      "Epoch 28/200\n",
      "2/2 [==============================] - 0s 29ms/step - loss: 0.4442 - binary_accuracy: 0.7992 - val_loss: 0.3502 - val_binary_accuracy: 0.8710\n",
      "Epoch 29/200\n",
      "2/2 [==============================] - 0s 33ms/step - loss: 0.4302 - binary_accuracy: 0.8114 - val_loss: 0.3457 - val_binary_accuracy: 0.8790\n",
      "Epoch 30/200\n",
      "2/2 [==============================] - 0s 34ms/step - loss: 0.4329 - binary_accuracy: 0.8073 - val_loss: 0.3414 - val_binary_accuracy: 0.8790\n",
      "Epoch 31/200\n",
      "2/2 [==============================] - 0s 32ms/step - loss: 0.4285 - binary_accuracy: 0.8438 - val_loss: 0.3373 - val_binary_accuracy: 0.8790\n",
      "Epoch 32/200\n",
      "2/2 [==============================] - 0s 28ms/step - loss: 0.4268 - binary_accuracy: 0.8316 - val_loss: 0.3332 - val_binary_accuracy: 0.8710\n",
      "Epoch 33/200\n",
      "2/2 [==============================] - 0s 27ms/step - loss: 0.4243 - binary_accuracy: 0.8398 - val_loss: 0.3291 - val_binary_accuracy: 0.8629\n",
      "Epoch 34/200\n",
      "2/2 [==============================] - 0s 27ms/step - loss: 0.4229 - binary_accuracy: 0.8256 - val_loss: 0.3250 - val_binary_accuracy: 0.8629\n",
      "Epoch 35/200\n",
      "2/2 [==============================] - 0s 31ms/step - loss: 0.4138 - binary_accuracy: 0.8377 - val_loss: 0.3215 - val_binary_accuracy: 0.8710\n",
      "Epoch 36/200\n",
      "2/2 [==============================] - 0s 31ms/step - loss: 0.4075 - binary_accuracy: 0.8479 - val_loss: 0.3179 - val_binary_accuracy: 0.8710\n",
      "Epoch 37/200\n",
      "2/2 [==============================] - 0s 33ms/step - loss: 0.3943 - binary_accuracy: 0.8438 - val_loss: 0.3144 - val_binary_accuracy: 0.8710\n",
      "Epoch 38/200\n",
      "2/2 [==============================] - 0s 31ms/step - loss: 0.3893 - binary_accuracy: 0.8540 - val_loss: 0.3108 - val_binary_accuracy: 0.8790\n",
      "Epoch 39/200\n",
      "2/2 [==============================] - 0s 31ms/step - loss: 0.3812 - binary_accuracy: 0.8499 - val_loss: 0.3069 - val_binary_accuracy: 0.8790\n",
      "Epoch 40/200\n",
      "2/2 [==============================] - 0s 31ms/step - loss: 0.3858 - binary_accuracy: 0.8316 - val_loss: 0.3034 - val_binary_accuracy: 0.8790\n",
      "Epoch 41/200\n",
      "2/2 [==============================] - 0s 29ms/step - loss: 0.3749 - binary_accuracy: 0.8803 - val_loss: 0.2996 - val_binary_accuracy: 0.8790\n",
      "Epoch 42/200\n",
      "2/2 [==============================] - 0s 29ms/step - loss: 0.3795 - binary_accuracy: 0.8621 - val_loss: 0.2962 - val_binary_accuracy: 0.8790\n",
      "Epoch 43/200\n",
      "2/2 [==============================] - 0s 31ms/step - loss: 0.3723 - binary_accuracy: 0.8763 - val_loss: 0.2927 - val_binary_accuracy: 0.8790\n",
      "Epoch 44/200\n",
      "2/2 [==============================] - 0s 28ms/step - loss: 0.3797 - binary_accuracy: 0.8702 - val_loss: 0.2893 - val_binary_accuracy: 0.8871\n",
      "Epoch 45/200\n",
      "2/2 [==============================] - 0s 29ms/step - loss: 0.3706 - binary_accuracy: 0.8682 - val_loss: 0.2860 - val_binary_accuracy: 0.8871\n",
      "Epoch 46/200\n",
      "2/2 [==============================] - 0s 30ms/step - loss: 0.3683 - binary_accuracy: 0.8722 - val_loss: 0.2827 - val_binary_accuracy: 0.8871\n",
      "Epoch 47/200\n",
      "2/2 [==============================] - 0s 28ms/step - loss: 0.3606 - binary_accuracy: 0.8722 - val_loss: 0.2796 - val_binary_accuracy: 0.8871\n",
      "Epoch 48/200\n",
      "2/2 [==============================] - 0s 27ms/step - loss: 0.3671 - binary_accuracy: 0.8621 - val_loss: 0.2766 - val_binary_accuracy: 0.8952\n",
      "Epoch 49/200\n",
      "2/2 [==============================] - 0s 30ms/step - loss: 0.3570 - binary_accuracy: 0.8682 - val_loss: 0.2734 - val_binary_accuracy: 0.8952\n",
      "Epoch 50/200\n",
      "2/2 [==============================] - 0s 30ms/step - loss: 0.3439 - binary_accuracy: 0.8682 - val_loss: 0.2701 - val_binary_accuracy: 0.8952\n",
      "Epoch 51/200\n",
      "2/2 [==============================] - 0s 30ms/step - loss: 0.3476 - binary_accuracy: 0.8803 - val_loss: 0.2673 - val_binary_accuracy: 0.9032\n",
      "Epoch 52/200\n",
      "2/2 [==============================] - 0s 32ms/step - loss: 0.3434 - binary_accuracy: 0.8824 - val_loss: 0.2648 - val_binary_accuracy: 0.9032\n",
      "Epoch 53/200\n",
      "2/2 [==============================] - 0s 32ms/step - loss: 0.3402 - binary_accuracy: 0.8864 - val_loss: 0.2621 - val_binary_accuracy: 0.9032\n",
      "Epoch 54/200\n",
      "2/2 [==============================] - 0s 28ms/step - loss: 0.3425 - binary_accuracy: 0.8864 - val_loss: 0.2595 - val_binary_accuracy: 0.9032\n",
      "Epoch 55/200\n",
      "2/2 [==============================] - 0s 31ms/step - loss: 0.3482 - binary_accuracy: 0.8763 - val_loss: 0.2566 - val_binary_accuracy: 0.9032\n",
      "Epoch 56/200\n",
      "2/2 [==============================] - 0s 33ms/step - loss: 0.3267 - binary_accuracy: 0.8925 - val_loss: 0.2540 - val_binary_accuracy: 0.9032\n",
      "Epoch 57/200\n",
      "2/2 [==============================] - 0s 31ms/step - loss: 0.3187 - binary_accuracy: 0.9128 - val_loss: 0.2518 - val_binary_accuracy: 0.9032\n",
      "Epoch 58/200\n",
      "2/2 [==============================] - 0s 30ms/step - loss: 0.3141 - binary_accuracy: 0.9128 - val_loss: 0.2489 - val_binary_accuracy: 0.9032\n",
      "Epoch 59/200\n",
      "2/2 [==============================] - 0s 30ms/step - loss: 0.3134 - binary_accuracy: 0.9006 - val_loss: 0.2464 - val_binary_accuracy: 0.9032\n",
      "Epoch 60/200\n",
      "2/2 [==============================] - 0s 31ms/step - loss: 0.3133 - binary_accuracy: 0.9026 - val_loss: 0.2442 - val_binary_accuracy: 0.9032\n",
      "Epoch 61/200\n",
      "2/2 [==============================] - 0s 31ms/step - loss: 0.3133 - binary_accuracy: 0.8905 - val_loss: 0.2417 - val_binary_accuracy: 0.9032\n",
      "Epoch 62/200\n",
      "2/2 [==============================] - 0s 30ms/step - loss: 0.3041 - binary_accuracy: 0.9047 - val_loss: 0.2393 - val_binary_accuracy: 0.9032\n",
      "Epoch 63/200\n",
      "2/2 [==============================] - 0s 34ms/step - loss: 0.3120 - binary_accuracy: 0.9006 - val_loss: 0.2374 - val_binary_accuracy: 0.9032\n",
      "Epoch 64/200\n",
      "2/2 [==============================] - 0s 30ms/step - loss: 0.2943 - binary_accuracy: 0.8905 - val_loss: 0.2357 - val_binary_accuracy: 0.9032\n",
      "Epoch 65/200\n",
      "2/2 [==============================] - 0s 30ms/step - loss: 0.2927 - binary_accuracy: 0.9290 - val_loss: 0.2343 - val_binary_accuracy: 0.9113\n",
      "Epoch 66/200\n",
      "2/2 [==============================] - 0s 33ms/step - loss: 0.2938 - binary_accuracy: 0.9209 - val_loss: 0.2328 - val_binary_accuracy: 0.9113\n",
      "Epoch 67/200\n",
      "2/2 [==============================] - 0s 36ms/step - loss: 0.2984 - binary_accuracy: 0.9026 - val_loss: 0.2314 - val_binary_accuracy: 0.9194\n",
      "Epoch 68/200\n",
      "2/2 [==============================] - 0s 33ms/step - loss: 0.2931 - binary_accuracy: 0.9128 - val_loss: 0.2304 - val_binary_accuracy: 0.9113\n",
      "Epoch 69/200\n",
      "2/2 [==============================] - 0s 30ms/step - loss: 0.2894 - binary_accuracy: 0.9209 - val_loss: 0.2289 - val_binary_accuracy: 0.9113\n",
      "Epoch 70/200\n",
      "2/2 [==============================] - 0s 28ms/step - loss: 0.2858 - binary_accuracy: 0.9310 - val_loss: 0.2274 - val_binary_accuracy: 0.9113\n",
      "Epoch 71/200\n",
      "2/2 [==============================] - 0s 33ms/step - loss: 0.2826 - binary_accuracy: 0.9128 - val_loss: 0.2261 - val_binary_accuracy: 0.9113\n",
      "Epoch 72/200\n",
      "2/2 [==============================] - 0s 34ms/step - loss: 0.2783 - binary_accuracy: 0.9290 - val_loss: 0.2246 - val_binary_accuracy: 0.9113\n",
      "Epoch 73/200\n",
      "2/2 [==============================] - 0s 33ms/step - loss: 0.2746 - binary_accuracy: 0.9189 - val_loss: 0.2235 - val_binary_accuracy: 0.9113\n",
      "Epoch 74/200\n",
      "2/2 [==============================] - 0s 36ms/step - loss: 0.2668 - binary_accuracy: 0.9371 - val_loss: 0.2224 - val_binary_accuracy: 0.9113\n",
      "Epoch 75/200\n",
      "2/2 [==============================] - 0s 37ms/step - loss: 0.2719 - binary_accuracy: 0.9310 - val_loss: 0.2207 - val_binary_accuracy: 0.9113\n",
      "Epoch 76/200\n",
      "2/2 [==============================] - 0s 39ms/step - loss: 0.2794 - binary_accuracy: 0.9168 - val_loss: 0.2184 - val_binary_accuracy: 0.9113\n",
      "Epoch 77/200\n",
      "2/2 [==============================] - 0s 38ms/step - loss: 0.2585 - binary_accuracy: 0.9229 - val_loss: 0.2167 - val_binary_accuracy: 0.9113\n",
      "Epoch 78/200\n",
      "2/2 [==============================] - 0s 40ms/step - loss: 0.2579 - binary_accuracy: 0.9331 - val_loss: 0.2152 - val_binary_accuracy: 0.9113\n",
      "Epoch 79/200\n",
      "2/2 [==============================] - 0s 39ms/step - loss: 0.2673 - binary_accuracy: 0.9310 - val_loss: 0.2140 - val_binary_accuracy: 0.9194\n",
      "Epoch 80/200\n",
      "2/2 [==============================] - 0s 31ms/step - loss: 0.2534 - binary_accuracy: 0.9391 - val_loss: 0.2128 - val_binary_accuracy: 0.9194\n",
      "Epoch 81/200\n",
      "2/2 [==============================] - 0s 28ms/step - loss: 0.2467 - binary_accuracy: 0.9513 - val_loss: 0.2122 - val_binary_accuracy: 0.9194\n",
      "Epoch 82/200\n",
      "2/2 [==============================] - 0s 26ms/step - loss: 0.2499 - binary_accuracy: 0.9432 - val_loss: 0.2118 - val_binary_accuracy: 0.9194\n",
      "Epoch 83/200\n",
      "2/2 [==============================] - 0s 27ms/step - loss: 0.2377 - binary_accuracy: 0.9371 - val_loss: 0.2113 - val_binary_accuracy: 0.9194\n",
      "Epoch 84/200\n",
      "2/2 [==============================] - 0s 26ms/step - loss: 0.2375 - binary_accuracy: 0.9473 - val_loss: 0.2105 - val_binary_accuracy: 0.9194\n",
      "Epoch 85/200\n",
      "2/2 [==============================] - 0s 28ms/step - loss: 0.2350 - binary_accuracy: 0.9473 - val_loss: 0.2096 - val_binary_accuracy: 0.9194\n",
      "Epoch 86/200\n",
      "2/2 [==============================] - 0s 28ms/step - loss: 0.2677 - binary_accuracy: 0.9148 - val_loss: 0.2088 - val_binary_accuracy: 0.9194\n",
      "Epoch 87/200\n",
      "2/2 [==============================] - 0s 34ms/step - loss: 0.2400 - binary_accuracy: 0.9371 - val_loss: 0.2073 - val_binary_accuracy: 0.9194\n",
      "Epoch 88/200\n",
      "2/2 [==============================] - 0s 28ms/step - loss: 0.2235 - binary_accuracy: 0.9452 - val_loss: 0.2063 - val_binary_accuracy: 0.9194\n",
      "Epoch 89/200\n",
      "2/2 [==============================] - 0s 28ms/step - loss: 0.2358 - binary_accuracy: 0.9331 - val_loss: 0.2057 - val_binary_accuracy: 0.9194\n",
      "Epoch 90/200\n",
      "2/2 [==============================] - 0s 28ms/step - loss: 0.2225 - binary_accuracy: 0.9533 - val_loss: 0.2055 - val_binary_accuracy: 0.9194\n",
      "Epoch 91/200\n",
      "2/2 [==============================] - 0s 30ms/step - loss: 0.2118 - binary_accuracy: 0.9574 - val_loss: 0.2050 - val_binary_accuracy: 0.9194\n",
      "Epoch 92/200\n",
      "2/2 [==============================] - 0s 32ms/step - loss: 0.2312 - binary_accuracy: 0.9310 - val_loss: 0.2051 - val_binary_accuracy: 0.9194\n",
      "Epoch 93/200\n",
      "2/2 [==============================] - 0s 29ms/step - loss: 0.2253 - binary_accuracy: 0.9533 - val_loss: 0.2049 - val_binary_accuracy: 0.9113\n",
      "Epoch 94/200\n",
      "2/2 [==============================] - 0s 31ms/step - loss: 0.2167 - binary_accuracy: 0.9533 - val_loss: 0.2045 - val_binary_accuracy: 0.9113\n",
      "Epoch 95/200\n",
      "2/2 [==============================] - 0s 30ms/step - loss: 0.2105 - binary_accuracy: 0.9493 - val_loss: 0.2047 - val_binary_accuracy: 0.9113\n",
      "Epoch 96/200\n",
      "2/2 [==============================] - 0s 29ms/step - loss: 0.2134 - binary_accuracy: 0.9432 - val_loss: 0.2046 - val_binary_accuracy: 0.9113\n",
      "Epoch 97/200\n",
      "2/2 [==============================] - 0s 28ms/step - loss: 0.2137 - binary_accuracy: 0.9432 - val_loss: 0.2041 - val_binary_accuracy: 0.9113\n",
      "Epoch 98/200\n",
      "2/2 [==============================] - 0s 27ms/step - loss: 0.2108 - binary_accuracy: 0.9594 - val_loss: 0.2035 - val_binary_accuracy: 0.9194\n",
      "Epoch 99/200\n",
      "2/2 [==============================] - 0s 24ms/step - loss: 0.2067 - binary_accuracy: 0.9513 - val_loss: 0.2028 - val_binary_accuracy: 0.9194\n",
      "Epoch 100/200\n",
      "2/2 [==============================] - 0s 24ms/step - loss: 0.2095 - binary_accuracy: 0.9513 - val_loss: 0.2028 - val_binary_accuracy: 0.9194\n",
      "Epoch 101/200\n",
      "2/2 [==============================] - 0s 24ms/step - loss: 0.1942 - binary_accuracy: 0.9655 - val_loss: 0.2028 - val_binary_accuracy: 0.9194\n",
      "Epoch 102/200\n",
      "2/2 [==============================] - 0s 25ms/step - loss: 0.1964 - binary_accuracy: 0.9675 - val_loss: 0.2031 - val_binary_accuracy: 0.9194\n",
      "Epoch 103/200\n",
      "2/2 [==============================] - 0s 36ms/step - loss: 0.1982 - binary_accuracy: 0.9594 - val_loss: 0.2033 - val_binary_accuracy: 0.9194\n"
     ]
    },
    {
     "data": {
      "text/plain": [
       "<Axes: title={'center': 'Accuracy'}>"
      ]
     },
     "execution_count": 22,
     "metadata": {},
     "output_type": "execute_result"
    },
    {
     "data": {
      "image/png": "[encoded data removed]",
      "text/plain": [
       "<Figure size 640x480 with 1 Axes>"
      ]
     },
     "metadata": {},
     "output_type": "display_data"
    },
    {
     "data": {
      "image/png": "[encoded data removed]",
      "text/plain": [
       "<Figure size 640x480 with 1 Axes>"
      ]
     },
     "metadata": {},
     "output_type": "display_data"
    }
   ],
   "source": [
    "early_stopping = keras.callbacks.EarlyStopping(\n",
    "    patience=5,\n",
    "    min_delta=0.001,\n",
    "    restore_best_weights=True,\n",
    ")\n",
    "\n",
    "history = model.fit(\n",
    "    X_train, y_train,\n",
    "    validation_data=(X_valid, y_valid),\n",
    "    batch_size=256,\n",
    "    epochs=200,\n",
    "    callbacks=[early_stopping],\n",
    "    verbose = 1\n",
    ")\n",
    "\n",
    "history_df = pd.DataFrame(history.history)\n",
    "history_df.loc[:, ['loss', 'val_loss']].plot(title=\"Cross-entropy\")\n",
    "history_df.loc[:, ['binary_accuracy', 'val_binary_accuracy']].plot(title=\"Accuracy\")"
   ]
  },
  {
   "cell_type": "code",
   "execution_count": 23,
   "id": "8e7c5f6d",
   "metadata": {
    "execution": {
     "iopub.execute_input": "2023-06-16T18:28:23.527004Z",
     "iopub.status.busy": "2023-06-16T18:28:23.526682Z",
     "iopub.status.idle": "2023-06-16T18:28:23.752355Z",
     "shell.execute_reply": "2023-06-16T18:28:23.750893Z"
    },
    "papermill": {
     "duration": 0.265225,
     "end_time": "2023-06-16T18:28:23.754999",
     "exception": false,
     "start_time": "2023-06-16T18:28:23.489774",
     "status": "completed"
    },
    "tags": []
   },
   "outputs": [
    {
     "name": "stdout",
     "output_type": "stream",
     "text": [
      "4/4 [==============================] - 0s 2ms/step\n",
      "\n",
      "The score is: 0.40662597178591714\n"
     ]
    }
   ],
   "source": [
    "y_pred = model.predict(X_valid)\n",
    "print('\\nThe score is:', balanced_logarithmic_loss(y_true = y_valid , y_pred = y_pred.flatten()))"
   ]
  },
  {
   "cell_type": "markdown",
   "id": "6961d765",
   "metadata": {
    "papermill": {
     "duration": 0.032517,
     "end_time": "2023-06-16T18:28:23.820680",
     "exception": false,
     "start_time": "2023-06-16T18:28:23.788163",
     "status": "completed"
    },
    "tags": []
   },
   "source": [
    "We get a score of **0.39**.\n",
    "\n",
    "## Final model selection\n",
    "\n",
    "The model that performed best was the **gradient boosting machine**, even without tuning. Therefore it seems to be a good choice for the actual submission. \n",
    "\n",
    "Let's tune it a bit with `Optuna` to see if we can improve the performance:"
   ]
  },
  {
   "cell_type": "code",
   "execution_count": 24,
   "id": "bb83e262",
   "metadata": {
    "_kg_hide-output": true,
    "execution": {
     "iopub.execute_input": "2023-06-16T18:28:23.887562Z",
     "iopub.status.busy": "2023-06-16T18:28:23.887197Z",
     "iopub.status.idle": "2023-06-16T18:28:53.510649Z",
     "shell.execute_reply": "2023-06-16T18:28:53.509594Z"
    },
    "papermill": {
     "duration": 29.659503,
     "end_time": "2023-06-16T18:28:53.512823",
     "exception": false,
     "start_time": "2023-06-16T18:28:23.853320",
     "status": "completed"
    },
    "tags": []
   },
   "outputs": [
    {
     "name": "stderr",
     "output_type": "stream",
     "text": [
      "\u001b[32m[I 2023-06-16 18:28:24,479]\u001b[0m A new study created in memory with name: no-name-ff1f6eee-3e26-4deb-acb5-9e6d5dbf4543\u001b[0m\n",
      "\u001b[32m[I 2023-06-16 18:28:24,718]\u001b[0m Trial 0 finished with value: 0.31481710911123406 and parameters: {'lambda_l1': 7.23956684236207e-07, 'lambda_l2': 0.016187763971738316, 'num_leaves': 134, 'feature_fraction': 0.9630056240722289, 'bagging_fraction': 0.6560434692586348, 'bagging_freq': 2, 'min_child_samples': 55}. Best is trial 0 with value: 0.31481710911123406.\u001b[0m\n",
      "\u001b[32m[I 2023-06-16 18:28:24,851]\u001b[0m Trial 1 finished with value: 0.5087193947694312 and parameters: {'lambda_l1': 0.004855474137962632, 'lambda_l2': 0.00011803727483756328, 'num_leaves': 2, 'feature_fraction': 0.7974948767185059, 'bagging_fraction': 0.40463108903396433, 'bagging_freq': 1, 'min_child_samples': 77}. Best is trial 0 with value: 0.31481710911123406.\u001b[0m\n",
      "\u001b[32m[I 2023-06-16 18:28:25,014]\u001b[0m Trial 2 finished with value: 0.38530350859291307 and parameters: {'lambda_l1': 0.003409244519043134, 'lambda_l2': 1.3586278324296656e-08, 'num_leaves': 193, 'feature_fraction': 0.47581592787425464, 'bagging_fraction': 0.6591497702744054, 'bagging_freq': 3, 'min_child_samples': 82}. Best is trial 0 with value: 0.31481710911123406.\u001b[0m\n",
      "\u001b[32m[I 2023-06-16 18:28:25,439]\u001b[0m Trial 3 finished with value: 0.3720223534335874 and parameters: {'lambda_l1': 1.172963514654064, 'lambda_l2': 0.42386654305164323, 'num_leaves': 56, 'feature_fraction': 0.7914251492287532, 'bagging_fraction': 0.9049343415421945, 'bagging_freq': 4, 'min_child_samples': 14}. Best is trial 0 with value: 0.31481710911123406.\u001b[0m\n",
      "\u001b[32m[I 2023-06-16 18:28:25,750]\u001b[0m Trial 4 finished with value: 0.32429509992700184 and parameters: {'lambda_l1': 0.05425948363727021, 'lambda_l2': 0.6643875386066912, 'num_leaves': 246, 'feature_fraction': 0.8174793925156738, 'bagging_fraction': 0.873809125514909, 'bagging_freq': 6, 'min_child_samples': 68}. Best is trial 0 with value: 0.31481710911123406.\u001b[0m\n",
      "\u001b[32m[I 2023-06-16 18:28:25,905]\u001b[0m Trial 5 finished with value: 0.40127805243960435 and parameters: {'lambda_l1': 0.0034985243694130377, 'lambda_l2': 0.0031432371430912764, 'num_leaves': 245, 'feature_fraction': 0.9735324682500832, 'bagging_fraction': 0.6438189331224922, 'bagging_freq': 2, 'min_child_samples': 87}. Best is trial 0 with value: 0.31481710911123406.\u001b[0m\n",
      "\u001b[32m[I 2023-06-16 18:28:26,037]\u001b[0m Trial 6 finished with value: 0.43143073281626293 and parameters: {'lambda_l1': 0.000202025614996444, 'lambda_l2': 9.442510120984468e-06, 'num_leaves': 43, 'feature_fraction': 0.8471237772652769, 'bagging_fraction': 0.4411830370187141, 'bagging_freq': 7, 'min_child_samples': 56}. Best is trial 0 with value: 0.31481710911123406.\u001b[0m\n",
      "\u001b[32m[I 2023-06-16 18:28:26,493]\u001b[0m Trial 7 finished with value: 0.3408101855898743 and parameters: {'lambda_l1': 2.3700914872914373e-07, 'lambda_l2': 1.97685286819301e-07, 'num_leaves': 97, 'feature_fraction': 0.7242396403665714, 'bagging_fraction': 0.8614651395644958, 'bagging_freq': 6, 'min_child_samples': 32}. Best is trial 0 with value: 0.31481710911123406.\u001b[0m\n",
      "\u001b[32m[I 2023-06-16 18:28:26,638]\u001b[0m Trial 8 finished with value: 0.43081197095269963 and parameters: {'lambda_l1': 0.0005900100815061965, 'lambda_l2': 5.608449602059734e-07, 'num_leaves': 58, 'feature_fraction': 0.533922074862566, 'bagging_fraction': 0.5788921788959391, 'bagging_freq': 1, 'min_child_samples': 100}. Best is trial 0 with value: 0.31481710911123406.\u001b[0m\n",
      "\u001b[32m[I 2023-06-16 18:28:26,850]\u001b[0m Trial 9 finished with value: 0.37025170580406963 and parameters: {'lambda_l1': 0.03099075317030871, 'lambda_l2': 2.999722383641654e-08, 'num_leaves': 63, 'feature_fraction': 0.7847430682608343, 'bagging_fraction': 0.620261378168535, 'bagging_freq': 2, 'min_child_samples': 61}. Best is trial 0 with value: 0.31481710911123406.\u001b[0m\n",
      "\u001b[32m[I 2023-06-16 18:28:27,173]\u001b[0m Trial 10 finished with value: 0.3237315542359409 and parameters: {'lambda_l1': 3.3660400459680784e-08, 'lambda_l2': 0.009711634994587725, 'num_leaves': 156, 'feature_fraction': 0.9912513255345716, 'bagging_fraction': 0.7975422178240189, 'bagging_freq': 4, 'min_child_samples': 39}. Best is trial 0 with value: 0.31481710911123406.\u001b[0m\n",
      "\u001b[32m[I 2023-06-16 18:28:27,508]\u001b[0m Trial 11 finished with value: 0.3970711792060576 and parameters: {'lambda_l1': 1.0307052366685204e-08, 'lambda_l2': 0.00851479403298933, 'num_leaves': 155, 'feature_fraction': 0.9982469069502647, 'bagging_fraction': 0.7800726266777704, 'bagging_freq': 4, 'min_child_samples': 37}. Best is trial 0 with value: 0.31481710911123406.\u001b[0m\n",
      "\u001b[32m[I 2023-06-16 18:28:27,804]\u001b[0m Trial 12 finished with value: 0.36556144163015125 and parameters: {'lambda_l1': 2.2182012025438584e-06, 'lambda_l2': 8.739964955559557, 'num_leaves': 150, 'feature_fraction': 0.9242519178243493, 'bagging_fraction': 0.7418082369967346, 'bagging_freq': 5, 'min_child_samples': 40}. Best is trial 0 with value: 0.31481710911123406.\u001b[0m\n",
      "\u001b[32m[I 2023-06-16 18:28:28,469]\u001b[0m Trial 13 finished with value: 0.4625363644475716 and parameters: {'lambda_l1': 4.0428085544680975e-06, 'lambda_l2': 0.008233189763881656, 'num_leaves': 190, 'feature_fraction': 0.909662307066792, 'bagging_fraction': 0.9738988253527314, 'bagging_freq': 3, 'min_child_samples': 13}. Best is trial 0 with value: 0.31481710911123406.\u001b[0m\n",
      "\u001b[32m[I 2023-06-16 18:28:28,788]\u001b[0m Trial 14 finished with value: 0.4088006146454751 and parameters: {'lambda_l1': 1.6420051615518425e-08, 'lambda_l2': 0.0003823746087295781, 'num_leaves': 120, 'feature_fraction': 0.911643645158939, 'bagging_fraction': 0.741506603802126, 'bagging_freq': 3, 'min_child_samples': 42}. Best is trial 0 with value: 0.31481710911123406.\u001b[0m\n",
      "\u001b[32m[I 2023-06-16 18:28:29,279]\u001b[0m Trial 15 finished with value: 0.4067802995900044 and parameters: {'lambda_l1': 2.3471034425583788e-07, 'lambda_l2': 0.07262235584155931, 'num_leaves': 188, 'feature_fraction': 0.9994300066103212, 'bagging_fraction': 0.8182507529356196, 'bagging_freq': 5, 'min_child_samples': 23}. Best is trial 0 with value: 0.31481710911123406.\u001b[0m\n",
      "\u001b[32m[I 2023-06-16 18:28:29,621]\u001b[0m Trial 16 finished with value: 0.3299765901179259 and parameters: {'lambda_l1': 7.399037010902677e-06, 'lambda_l2': 0.00039540449340725106, 'num_leaves': 106, 'feature_fraction': 0.6060182250210926, 'bagging_fraction': 0.7095368049305271, 'bagging_freq': 2, 'min_child_samples': 51}. Best is trial 0 with value: 0.31481710911123406.\u001b[0m\n",
      "\u001b[32m[I 2023-06-16 18:28:29,870]\u001b[0m Trial 17 finished with value: 0.3442535381783837 and parameters: {'lambda_l1': 3.244056132147195e-05, 'lambda_l2': 0.05194839684834311, 'num_leaves': 150, 'feature_fraction': 0.8861505919912928, 'bagging_fraction': 0.5380627382311512, 'bagging_freq': 5, 'min_child_samples': 51}. Best is trial 0 with value: 0.31481710911123406.\u001b[0m\n",
      "\u001b[32m[I 2023-06-16 18:28:30,338]\u001b[0m Trial 18 finished with value: 0.33353128323020487 and parameters: {'lambda_l1': 1.888922959583098e-07, 'lambda_l2': 3.0357510852655104e-05, 'num_leaves': 218, 'feature_fraction': 0.6949281386270979, 'bagging_fraction': 0.6956745690699644, 'bagging_freq': 3, 'min_child_samples': 27}. Best is trial 0 with value: 0.31481710911123406.\u001b[0m\n",
      "\u001b[32m[I 2023-06-16 18:28:30,593]\u001b[0m Trial 19 finished with value: 0.34281438923283974 and parameters: {'lambda_l1': 6.602250280389803e-08, 'lambda_l2': 0.002269423306339586, 'num_leaves': 83, 'feature_fraction': 0.9404188943556276, 'bagging_fraction': 0.7969001171900467, 'bagging_freq': 1, 'min_child_samples': 67}. Best is trial 0 with value: 0.31481710911123406.\u001b[0m\n",
      "\u001b[32m[I 2023-06-16 18:28:30,838]\u001b[0m Trial 20 finished with value: 0.3204482931409302 and parameters: {'lambda_l1': 1.971898751061811e-06, 'lambda_l2': 0.029195598625475352, 'num_leaves': 135, 'feature_fraction': 0.8680701551525347, 'bagging_fraction': 0.5149047322219935, 'bagging_freq': 4, 'min_child_samples': 46}. Best is trial 0 with value: 0.31481710911123406.\u001b[0m\n",
      "\u001b[32m[I 2023-06-16 18:28:31,059]\u001b[0m Trial 21 finished with value: 0.30207951409799055 and parameters: {'lambda_l1': 9.351220823999878e-07, 'lambda_l2': 0.035173776813370035, 'num_leaves': 138, 'feature_fraction': 0.8584969472683701, 'bagging_fraction': 0.5182696685526282, 'bagging_freq': 4, 'min_child_samples': 47}. Best is trial 21 with value: 0.30207951409799055.\u001b[0m\n",
      "\u001b[32m[I 2023-06-16 18:28:31,281]\u001b[0m Trial 22 finished with value: 0.34381528588117494 and parameters: {'lambda_l1': 1.2574878641009225e-06, 'lambda_l2': 0.060450017715992316, 'num_leaves': 128, 'feature_fraction': 0.8510260389325697, 'bagging_fraction': 0.516744541463357, 'bagging_freq': 5, 'min_child_samples': 51}. Best is trial 21 with value: 0.30207951409799055.\u001b[0m\n",
      "\u001b[32m[I 2023-06-16 18:28:31,514]\u001b[0m Trial 23 finished with value: 0.38375703577216486 and parameters: {'lambda_l1': 2.8576372552251763e-05, 'lambda_l2': 0.0013794668268422967, 'num_leaves': 134, 'feature_fraction': 0.874239277894216, 'bagging_fraction': 0.49340040274728536, 'bagging_freq': 2, 'min_child_samples': 48}. Best is trial 21 with value: 0.30207951409799055.\u001b[0m\n",
      "\u001b[32m[I 2023-06-16 18:28:31,734]\u001b[0m Trial 24 finished with value: 0.40772727502271977 and parameters: {'lambda_l1': 1.3943914185791604e-06, 'lambda_l2': 0.2280543309439503, 'num_leaves': 176, 'feature_fraction': 0.942376044315341, 'bagging_fraction': 0.5595852275582898, 'bagging_freq': 4, 'min_child_samples': 69}. Best is trial 21 with value: 0.30207951409799055.\u001b[0m\n",
      "\u001b[32m[I 2023-06-16 18:28:31,953]\u001b[0m Trial 25 finished with value: 0.3476047762355697 and parameters: {'lambda_l1': 4.352311648027122e-07, 'lambda_l2': 1.99127346216171, 'num_leaves': 90, 'feature_fraction': 0.8666850764804076, 'bagging_fraction': 0.5950381809283415, 'bagging_freq': 6, 'min_child_samples': 59}. Best is trial 21 with value: 0.30207951409799055.\u001b[0m\n",
      "\u001b[32m[I 2023-06-16 18:28:32,189]\u001b[0m Trial 26 finished with value: 0.30344026856481165 and parameters: {'lambda_l1': 1.2804439515488899e-05, 'lambda_l2': 0.027463183184503723, 'num_leaves': 114, 'feature_fraction': 0.9374967219010406, 'bagging_fraction': 0.5084393865983914, 'bagging_freq': 4, 'min_child_samples': 44}. Best is trial 21 with value: 0.30207951409799055.\u001b[0m\n",
      "\u001b[32m[I 2023-06-16 18:28:32,518]\u001b[0m Trial 27 finished with value: 0.37747424325900525 and parameters: {'lambda_l1': 1.1677181792849534e-05, 'lambda_l2': 0.15524865521309572, 'num_leaves': 109, 'feature_fraction': 0.9487665626705609, 'bagging_fraction': 0.4736081835013559, 'bagging_freq': 3, 'min_child_samples': 24}. Best is trial 21 with value: 0.30207951409799055.\u001b[0m\n",
      "\u001b[32m[I 2023-06-16 18:28:32,729]\u001b[0m Trial 28 finished with value: 0.3440769134873004 and parameters: {'lambda_l1': 5.3661257256456494e-05, 'lambda_l2': 0.01937651244895535, 'num_leaves': 76, 'feature_fraction': 0.9543222741730408, 'bagging_fraction': 0.5573269655234118, 'bagging_freq': 7, 'min_child_samples': 62}. Best is trial 21 with value: 0.30207951409799055.\u001b[0m\n",
      "\u001b[32m[I 2023-06-16 18:28:32,895]\u001b[0m Trial 29 finished with value: 0.47166160824965686 and parameters: {'lambda_l1': 7.254302124509e-08, 'lambda_l2': 1.0581416860588262, 'num_leaves': 217, 'feature_fraction': 0.8954572461523561, 'bagging_fraction': 0.4117143418250743, 'bagging_freq': 1, 'min_child_samples': 73}. Best is trial 21 with value: 0.30207951409799055.\u001b[0m\n",
      "\u001b[32m[I 2023-06-16 18:28:33,212]\u001b[0m Trial 30 finished with value: 0.39826095386686566 and parameters: {'lambda_l1': 6.732609470928473e-07, 'lambda_l2': 0.0021621686478982623, 'num_leaves': 172, 'feature_fraction': 0.9549377910825149, 'bagging_fraction': 0.46121146489925774, 'bagging_freq': 5, 'min_child_samples': 30}. Best is trial 21 with value: 0.30207951409799055.\u001b[0m\n",
      "\u001b[32m[I 2023-06-16 18:28:33,382]\u001b[0m Trial 31 finished with value: 0.34946808900274823 and parameters: {'lambda_l1': 5.061421890849238e-06, 'lambda_l2': 0.03808662486071743, 'num_leaves': 3, 'feature_fraction': 0.8307532795157064, 'bagging_fraction': 0.5121625900216965, 'bagging_freq': 4, 'min_child_samples': 45}. Best is trial 21 with value: 0.30207951409799055.\u001b[0m\n",
      "\u001b[32m[I 2023-06-16 18:28:33,713]\u001b[0m Trial 32 finished with value: 0.32682674390964983 and parameters: {'lambda_l1': 1.082152880264487e-06, 'lambda_l2': 0.02088096409458942, 'num_leaves': 137, 'feature_fraction': 0.8721984139135901, 'bagging_fraction': 0.6038889610008239, 'bagging_freq': 4, 'min_child_samples': 36}. Best is trial 21 with value: 0.30207951409799055.\u001b[0m\n",
      "\u001b[32m[I 2023-06-16 18:28:33,997]\u001b[0m Trial 33 finished with value: 0.39948265820621426 and parameters: {'lambda_l1': 3.563477291157912e-06, 'lambda_l2': 0.1664202407768341, 'num_leaves': 118, 'feature_fraction': 0.9128432692594353, 'bagging_fraction': 0.5344307922472437, 'bagging_freq': 3, 'min_child_samples': 45}. Best is trial 21 with value: 0.30207951409799055.\u001b[0m\n",
      "\u001b[32m[I 2023-06-16 18:28:34,255]\u001b[0m Trial 34 finished with value: 0.3397750046458079 and parameters: {'lambda_l1': 9.70530202879403e-06, 'lambda_l2': 0.14111453207147445, 'num_leaves': 141, 'feature_fraction': 0.8061334461753339, 'bagging_fraction': 0.6398583575999575, 'bagging_freq': 4, 'min_child_samples': 55}. Best is trial 21 with value: 0.30207951409799055.\u001b[0m\n",
      "\u001b[32m[I 2023-06-16 18:28:34,436]\u001b[0m Trial 35 finished with value: 0.5199528258690146 and parameters: {'lambda_l1': 5.305407265292813e-07, 'lambda_l2': 0.5241510276337046, 'num_leaves': 170, 'feature_fraction': 0.7773875994839297, 'bagging_fraction': 0.49301588414012254, 'bagging_freq': 3, 'min_child_samples': 82}. Best is trial 21 with value: 0.30207951409799055.\u001b[0m\n",
      "\u001b[32m[I 2023-06-16 18:28:34,873]\u001b[0m Trial 36 finished with value: 0.3480630119546383 and parameters: {'lambda_l1': 9.906120457121116e-05, 'lambda_l2': 0.00723553881635277, 'num_leaves': 109, 'feature_fraction': 0.8306281339315965, 'bagging_fraction': 0.44100768918258026, 'bagging_freq': 2, 'min_child_samples': 21}. Best is trial 21 with value: 0.30207951409799055.\u001b[0m\n",
      "\u001b[32m[I 2023-06-16 18:28:35,238]\u001b[0m Trial 37 finished with value: 0.4030002047775766 and parameters: {'lambda_l1': 1.594022974176212e-05, 'lambda_l2': 0.0008016483510563235, 'num_leaves': 127, 'feature_fraction': 0.9647513657156126, 'bagging_fraction': 0.5728482152262675, 'bagging_freq': 6, 'min_child_samples': 33}. Best is trial 21 with value: 0.30207951409799055.\u001b[0m\n",
      "\u001b[32m[I 2023-06-16 18:28:35,468]\u001b[0m Trial 38 finished with value: 0.4563422168829818 and parameters: {'lambda_l1': 2.8869706494978366e-06, 'lambda_l2': 0.003906139195356102, 'num_leaves': 206, 'feature_fraction': 0.8965148350993156, 'bagging_fraction': 0.4002553893385, 'bagging_freq': 5, 'min_child_samples': 46}. Best is trial 21 with value: 0.30207951409799055.\u001b[0m\n",
      "\u001b[32m[I 2023-06-16 18:28:36,276]\u001b[0m Trial 39 finished with value: 0.43884630078337816 and parameters: {'lambda_l1': 0.0003924658984138245, 'lambda_l2': 0.02315047499785558, 'num_leaves': 33, 'feature_fraction': 0.9711910019014154, 'bagging_fraction': 0.6179402649860949, 'bagging_freq': 3, 'min_child_samples': 7}. Best is trial 21 with value: 0.30207951409799055.\u001b[0m\n",
      "\u001b[32m[I 2023-06-16 18:28:36,538]\u001b[0m Trial 40 finished with value: 0.3505043026983769 and parameters: {'lambda_l1': 1.0843154824791601e-07, 'lambda_l2': 0.00011741092006865095, 'num_leaves': 96, 'feature_fraction': 0.9326799320239806, 'bagging_fraction': 0.6445206573917192, 'bagging_freq': 4, 'min_child_samples': 65}. Best is trial 21 with value: 0.30207951409799055.\u001b[0m\n",
      "\u001b[32m[I 2023-06-16 18:28:36,884]\u001b[0m Trial 41 finished with value: 0.3641231048228899 and parameters: {'lambda_l1': 3.117493576419425e-08, 'lambda_l2': 0.011794145792092661, 'num_leaves': 158, 'feature_fraction': 0.9993507341806677, 'bagging_fraction': 0.6750462738241356, 'bagging_freq': 4, 'min_child_samples': 39}. Best is trial 21 with value: 0.30207951409799055.\u001b[0m\n",
      "\u001b[32m[I 2023-06-16 18:28:37,111]\u001b[0m Trial 42 finished with value: 0.3230268473707199 and parameters: {'lambda_l1': 3.2676359030381854e-08, 'lambda_l2': 0.040396741029591364, 'num_leaves': 143, 'feature_fraction': 0.9745578080851729, 'bagging_fraction': 0.5910801799960932, 'bagging_freq': 4, 'min_child_samples': 57}. Best is trial 21 with value: 0.30207951409799055.\u001b[0m\n",
      "\u001b[32m[I 2023-06-16 18:28:37,327]\u001b[0m Trial 43 finished with value: 0.337432763165028 and parameters: {'lambda_l1': 4.2165871762240445e-07, 'lambda_l2': 0.05118536944264471, 'num_leaves': 145, 'feature_fraction': 0.8595789603083416, 'bagging_fraction': 0.5843937325041019, 'bagging_freq': 4, 'min_child_samples': 56}. Best is trial 21 with value: 0.30207951409799055.\u001b[0m\n",
      "\u001b[32m[I 2023-06-16 18:28:37,565]\u001b[0m Trial 44 finished with value: 0.39453546377812704 and parameters: {'lambda_l1': 1.7167768888424127e-07, 'lambda_l2': 0.02093624239907588, 'num_leaves': 166, 'feature_fraction': 0.9707971982455164, 'bagging_fraction': 0.5326689366186489, 'bagging_freq': 5, 'min_child_samples': 56}. Best is trial 21 with value: 0.30207951409799055.\u001b[0m\n",
      "\u001b[32m[I 2023-06-16 18:28:37,823]\u001b[0m Trial 45 finished with value: 0.33461107688423947 and parameters: {'lambda_l1': 1.6864638357423611e-06, 'lambda_l2': 0.00484584009890705, 'num_leaves': 117, 'feature_fraction': 0.9242393034271932, 'bagging_fraction': 0.5599803142499185, 'bagging_freq': 4, 'min_child_samples': 61}. Best is trial 21 with value: 0.30207951409799055.\u001b[0m\n",
      "\u001b[32m[I 2023-06-16 18:28:38,016]\u001b[0m Trial 46 finished with value: 0.4222537820519702 and parameters: {'lambda_l1': 3.230176305724782e-08, 'lambda_l2': 0.3436742475830707, 'num_leaves': 75, 'feature_fraction': 0.9015934999547456, 'bagging_fraction': 0.6201798952502995, 'bagging_freq': 3, 'min_child_samples': 75}. Best is trial 21 with value: 0.30207951409799055.\u001b[0m\n",
      "\u001b[32m[I 2023-06-16 18:28:38,198]\u001b[0m Trial 47 finished with value: 0.4003411977174826 and parameters: {'lambda_l1': 4.6466764589401905e-07, 'lambda_l2': 0.10565841558358352, 'num_leaves': 131, 'feature_fraction': 0.925292911032811, 'bagging_fraction': 0.5888215653083051, 'bagging_freq': 2, 'min_child_samples': 92}. Best is trial 21 with value: 0.30207951409799055.\u001b[0m\n",
      "\u001b[32m[I 2023-06-16 18:28:38,487]\u001b[0m Trial 48 finished with value: 0.34595806734449847 and parameters: {'lambda_l1': 1.2267547555426888e-07, 'lambda_l2': 0.0034437570951279684, 'num_leaves': 183, 'feature_fraction': 0.9766862761746599, 'bagging_fraction': 0.501675415239853, 'bagging_freq': 6, 'min_child_samples': 42}. Best is trial 21 with value: 0.30207951409799055.\u001b[0m\n",
      "\u001b[32m[I 2023-06-16 18:28:38,733]\u001b[0m Trial 49 finished with value: 0.3408490958681324 and parameters: {'lambda_l1': 1.1037564728337957e-08, 'lambda_l2': 0.01243324294708438, 'num_leaves': 159, 'feature_fraction': 0.8852173782874764, 'bagging_fraction': 0.5424443580693983, 'bagging_freq': 5, 'min_child_samples': 49}. Best is trial 21 with value: 0.30207951409799055.\u001b[0m\n",
      "\u001b[32m[I 2023-06-16 18:28:39,065]\u001b[0m Trial 50 finished with value: 0.34885942429999967 and parameters: {'lambda_l1': 4.926482441262761e-06, 'lambda_l2': 0.077079030919257, 'num_leaves': 145, 'feature_fraction': 0.8454775475720627, 'bagging_fraction': 0.47398835147097895, 'bagging_freq': 1, 'min_child_samples': 34}. Best is trial 21 with value: 0.30207951409799055.\u001b[0m\n",
      "\u001b[32m[I 2023-06-16 18:28:39,392]\u001b[0m Trial 51 finished with value: 0.3944547779742499 and parameters: {'lambda_l1': 3.684159541038291e-08, 'lambda_l2': 0.030307965795857227, 'num_leaves': 102, 'feature_fraction': 0.9883814724764202, 'bagging_fraction': 0.6818349358752894, 'bagging_freq': 4, 'min_child_samples': 41}. Best is trial 21 with value: 0.30207951409799055.\u001b[0m\n",
      "\u001b[32m[I 2023-06-16 18:28:39,745]\u001b[0m Trial 52 finished with value: 0.34492458050631325 and parameters: {'lambda_l1': 6.53455426471559e-08, 'lambda_l2': 0.0066004367820261724, 'num_leaves': 122, 'feature_fraction': 0.9765925709658553, 'bagging_fraction': 0.6575743137910884, 'bagging_freq': 4, 'min_child_samples': 45}. Best is trial 21 with value: 0.30207951409799055.\u001b[0m\n",
      "\u001b[32m[I 2023-06-16 18:28:40,043]\u001b[0m Trial 53 finished with value: 0.34269373149040716 and parameters: {'lambda_l1': 3.191683998709225e-07, 'lambda_l2': 0.011891822172509723, 'num_leaves': 159, 'feature_fraction': 0.9411082362029998, 'bagging_fraction': 0.7188109335126953, 'bagging_freq': 3, 'min_child_samples': 53}. Best is trial 21 with value: 0.30207951409799055.\u001b[0m\n",
      "\u001b[32m[I 2023-06-16 18:28:40,336]\u001b[0m Trial 54 finished with value: 0.34177112337881693 and parameters: {'lambda_l1': 1.9339373444971754e-07, 'lambda_l2': 0.001023936363329417, 'num_leaves': 201, 'feature_fraction': 0.9953311444091149, 'bagging_fraction': 0.5209965172902998, 'bagging_freq': 5, 'min_child_samples': 38}. Best is trial 21 with value: 0.30207951409799055.\u001b[0m\n",
      "\u001b[32m[I 2023-06-16 18:28:40,576]\u001b[0m Trial 55 finished with value: 0.34300720266635654 and parameters: {'lambda_l1': 1.980505034346971e-08, 'lambda_l2': 0.06806372523656849, 'num_leaves': 139, 'feature_fraction': 0.9156123829514721, 'bagging_fraction': 0.5751959698968909, 'bagging_freq': 4, 'min_child_samples': 58}. Best is trial 21 with value: 0.30207951409799055.\u001b[0m\n",
      "\u001b[32m[I 2023-06-16 18:28:40,994]\u001b[0m Trial 56 finished with value: 0.32158903503935915 and parameters: {'lambda_l1': 7.990148131804613e-07, 'lambda_l2': 0.03025928393005773, 'num_leaves': 151, 'feature_fraction': 0.958354685449381, 'bagging_fraction': 0.7605095094684677, 'bagging_freq': 4, 'min_child_samples': 29}. Best is trial 21 with value: 0.30207951409799055.\u001b[0m\n",
      "\u001b[32m[I 2023-06-16 18:28:41,441]\u001b[0m Trial 57 finished with value: 0.35209845128717177 and parameters: {'lambda_l1': 7.859640836391223e-07, 'lambda_l2': 0.23610932882389524, 'num_leaves': 113, 'feature_fraction': 0.9506354555874132, 'bagging_fraction': 0.7475515302746738, 'bagging_freq': 3, 'min_child_samples': 19}. Best is trial 21 with value: 0.30207951409799055.\u001b[0m\n",
      "\u001b[32m[I 2023-06-16 18:28:41,863]\u001b[0m Trial 58 finished with value: 0.3993019879398213 and parameters: {'lambda_l1': 2.2066482890654586e-06, 'lambda_l2': 0.039553319044310795, 'num_leaves': 150, 'feature_fraction': 0.88643857509707, 'bagging_fraction': 0.5463214941882287, 'bagging_freq': 4, 'min_child_samples': 28}. Best is trial 21 with value: 0.30207951409799055.\u001b[0m\n",
      "\u001b[32m[I 2023-06-16 18:28:42,409]\u001b[0m Trial 59 finished with value: 0.3723172901922672 and parameters: {'lambda_l1': 1.050502264703372e-06, 'lambda_l2': 0.0018815689562736804, 'num_leaves': 180, 'feature_fraction': 0.9620143596079083, 'bagging_fraction': 0.6061710169670246, 'bagging_freq': 5, 'min_child_samples': 16}. Best is trial 21 with value: 0.30207951409799055.\u001b[0m\n",
      "\u001b[32m[I 2023-06-16 18:28:42,668]\u001b[0m Trial 60 finished with value: 0.4458754772277483 and parameters: {'lambda_l1': 1.893761600686806e-05, 'lambda_l2': 0.7257098277349007, 'num_leaves': 97, 'feature_fraction': 0.9321079383797434, 'bagging_fraction': 0.5152577741000258, 'bagging_freq': 2, 'min_child_samples': 49}. Best is trial 21 with value: 0.30207951409799055.\u001b[0m\n",
      "\u001b[32m[I 2023-06-16 18:28:42,988]\u001b[0m Trial 61 finished with value: 0.37445043177273507 and parameters: {'lambda_l1': 2.677621333775494e-07, 'lambda_l2': 0.006444618774348366, 'num_leaves': 128, 'feature_fraction': 0.979497684065498, 'bagging_fraction': 0.8501021552950674, 'bagging_freq': 4, 'min_child_samples': 53}. Best is trial 21 with value: 0.30207951409799055.\u001b[0m\n",
      "\u001b[32m[I 2023-06-16 18:28:43,337]\u001b[0m Trial 62 finished with value: 0.33326648759864325 and parameters: {'lambda_l1': 8.311900974075508e-06, 'lambda_l2': 0.013748039324039452, 'num_leaves': 161, 'feature_fraction': 0.9059154504407851, 'bagging_fraction': 0.7852230309020918, 'bagging_freq': 4, 'min_child_samples': 43}. Best is trial 21 with value: 0.30207951409799055.\u001b[0m\n",
      "\u001b[32m[I 2023-06-16 18:28:43,767]\u001b[0m Trial 63 finished with value: 0.36149646746101183 and parameters: {'lambda_l1': 2.057701185602963e-06, 'lambda_l2': 0.09552969457991199, 'num_leaves': 148, 'feature_fraction': 0.9530684974038021, 'bagging_fraction': 0.7400639954939504, 'bagging_freq': 4, 'min_child_samples': 30}. Best is trial 21 with value: 0.30207951409799055.\u001b[0m\n",
      "\u001b[32m[I 2023-06-16 18:28:44,059]\u001b[0m Trial 64 finished with value: 0.3615299230709185 and parameters: {'lambda_l1': 1.0481975875022701e-07, 'lambda_l2': 0.03349932853051991, 'num_leaves': 138, 'feature_fraction': 0.9994548446384177, 'bagging_fraction': 0.8087425120962808, 'bagging_freq': 3, 'min_child_samples': 65}. Best is trial 21 with value: 0.30207951409799055.\u001b[0m\n",
      "\u001b[32m[I 2023-06-16 18:28:44,393]\u001b[0m Trial 65 finished with value: 0.3297937694656028 and parameters: {'lambda_l1': 6.184308823176974e-08, 'lambda_l2': 0.31433146240544685, 'num_leaves': 124, 'feature_fraction': 0.9277365929850495, 'bagging_fraction': 0.7605317598131602, 'bagging_freq': 5, 'min_child_samples': 37}. Best is trial 21 with value: 0.30207951409799055.\u001b[0m\n",
      "\u001b[32m[I 2023-06-16 18:28:44,710]\u001b[0m Trial 66 finished with value: 0.3286240591143993 and parameters: {'lambda_l1': 7.976275871288665e-07, 'lambda_l2': 0.003336954653556787, 'num_leaves': 166, 'feature_fraction': 0.9439727874715452, 'bagging_fraction': 0.7139177428388988, 'bagging_freq': 3, 'min_child_samples': 49}. Best is trial 21 with value: 0.30207951409799055.\u001b[0m\n",
      "\u001b[32m[I 2023-06-16 18:28:45,051]\u001b[0m Trial 67 finished with value: 0.33174958788015024 and parameters: {'lambda_l1': 4.244962708299456e-06, 'lambda_l2': 0.14150721883666972, 'num_leaves': 133, 'feature_fraction': 0.8743027554705523, 'bagging_fraction': 0.49653801091238997, 'bagging_freq': 4, 'min_child_samples': 26}. Best is trial 21 with value: 0.30207951409799055.\u001b[0m\n",
      "\u001b[32m[I 2023-06-16 18:28:45,351]\u001b[0m Trial 68 finished with value: 0.3683003625067118 and parameters: {'lambda_l1': 2.4304508347419536e-07, 'lambda_l2': 0.04253531152078998, 'num_leaves': 153, 'feature_fraction': 0.9813674439752939, 'bagging_fraction': 0.5603516884472883, 'bagging_freq': 5, 'min_child_samples': 35}. Best is trial 21 with value: 0.30207951409799055.\u001b[0m\n",
      "\u001b[32m[I 2023-06-16 18:28:45,744]\u001b[0m Trial 69 finished with value: 0.3519254118703736 and parameters: {'lambda_l1': 5.951553718945236e-07, 'lambda_l2': 0.019285277069046182, 'num_leaves': 89, 'feature_fraction': 0.9117250788851772, 'bagging_fraction': 0.8251083539927834, 'bagging_freq': 4, 'min_child_samples': 47}. Best is trial 21 with value: 0.30207951409799055.\u001b[0m\n",
      "\u001b[32m[I 2023-06-16 18:28:46,096]\u001b[0m Trial 70 finished with value: 0.3484255712273688 and parameters: {'lambda_l1': 1.4304926301721527e-06, 'lambda_l2': 0.006604790524249829, 'num_leaves': 105, 'feature_fraction': 0.9615340772023384, 'bagging_fraction': 0.6294353340528633, 'bagging_freq': 7, 'min_child_samples': 31}. Best is trial 21 with value: 0.30207951409799055.\u001b[0m\n",
      "\u001b[32m[I 2023-06-16 18:28:46,432]\u001b[0m Trial 71 finished with value: 0.35134264135247434 and parameters: {'lambda_l1': 0.11615536479746932, 'lambda_l2': 0.0793921469615494, 'num_leaves': 253, 'feature_fraction': 0.8918063898315497, 'bagging_fraction': 0.9134629797277268, 'bagging_freq': 6, 'min_child_samples': 51}. Best is trial 21 with value: 0.30207951409799055.\u001b[0m\n",
      "\u001b[32m[I 2023-06-16 18:28:46,746]\u001b[0m Trial 72 finished with value: 0.3521803835474584 and parameters: {'lambda_l1': 4.357226963514197e-05, 'lambda_l2': 1.8825203838993025, 'num_leaves': 225, 'feature_fraction': 0.938387448402344, 'bagging_fraction': 0.8928499456416421, 'bagging_freq': 4, 'min_child_samples': 60}. Best is trial 21 with value: 0.30207951409799055.\u001b[0m\n",
      "\u001b[32m[I 2023-06-16 18:28:46,948]\u001b[0m Trial 73 finished with value: 0.36516689367329114 and parameters: {'lambda_l1': 8.35112301179316e-06, 'lambda_l2': 0.4081464241054978, 'num_leaves': 194, 'feature_fraction': 0.8676512753115125, 'bagging_fraction': 0.7720401607734354, 'bagging_freq': 7, 'min_child_samples': 80}. Best is trial 21 with value: 0.30207951409799055.\u001b[0m\n",
      "\u001b[32m[I 2023-06-16 18:28:47,156]\u001b[0m Trial 74 finished with value: 0.3383377475858851 and parameters: {'lambda_l1': 0.00016735611308479095, 'lambda_l2': 0.17220983858350156, 'num_leaves': 115, 'feature_fraction': 0.9639548001386311, 'bagging_fraction': 0.6981728919863198, 'bagging_freq': 4, 'min_child_samples': 69}. Best is trial 21 with value: 0.30207951409799055.\u001b[0m\n",
      "\u001b[32m[I 2023-06-16 18:28:47,422]\u001b[0m Trial 75 finished with value: 0.35688003661242373 and parameters: {'lambda_l1': 0.0010742640883016484, 'lambda_l2': 0.010986185107731514, 'num_leaves': 143, 'feature_fraction': 0.915406494747277, 'bagging_fraction': 0.527138477014594, 'bagging_freq': 1, 'min_child_samples': 43}. Best is trial 21 with value: 0.30207951409799055.\u001b[0m\n",
      "\u001b[32m[I 2023-06-16 18:28:47,684]\u001b[0m Trial 76 finished with value: 0.335624414358441 and parameters: {'lambda_l1': 3.905097565861143e-07, 'lambda_l2': 0.02591501661188873, 'num_leaves': 173, 'feature_fraction': 0.8391889766310408, 'bagging_fraction': 0.7896653909328124, 'bagging_freq': 5, 'min_child_samples': 63}. Best is trial 21 with value: 0.30207951409799055.\u001b[0m\n",
      "\u001b[32m[I 2023-06-16 18:28:47,898]\u001b[0m Trial 77 finished with value: 0.42187971515690864 and parameters: {'lambda_l1': 3.121263095541987e-06, 'lambda_l2': 0.0487380103656175, 'num_leaves': 230, 'feature_fraction': 0.9878533356367745, 'bagging_fraction': 0.5720903433312147, 'bagging_freq': 3, 'min_child_samples': 70}. Best is trial 21 with value: 0.30207951409799055.\u001b[0m\n",
      "\u001b[32m[I 2023-06-16 18:28:48,139]\u001b[0m Trial 78 finished with value: 0.3471133077026916 and parameters: {'lambda_l1': 1.657085837590931e-05, 'lambda_l2': 0.12811426299123535, 'num_leaves': 132, 'feature_fraction': 0.8112095785270174, 'bagging_fraction': 0.6070432404456837, 'bagging_freq': 4, 'min_child_samples': 57}. Best is trial 21 with value: 0.30207951409799055.\u001b[0m\n",
      "\u001b[32m[I 2023-06-16 18:28:48,389]\u001b[0m Trial 79 finished with value: 0.28157939171861424 and parameters: {'lambda_l1': 9.326048147248145e-07, 'lambda_l2': 0.0023555996838637216, 'num_leaves': 44, 'feature_fraction': 0.8518785051423415, 'bagging_fraction': 0.5089133561643621, 'bagging_freq': 5, 'min_child_samples': 40}. Best is trial 79 with value: 0.28157939171861424.\u001b[0m\n",
      "\u001b[32m[I 2023-06-16 18:28:48,680]\u001b[0m Trial 80 finished with value: 0.35174399575553095 and parameters: {'lambda_l1': 1.105790404917997e-06, 'lambda_l2': 0.0024954084823656415, 'num_leaves': 13, 'feature_fraction': 0.9025258983905619, 'bagging_fraction': 0.5040272819379241, 'bagging_freq': 5, 'min_child_samples': 38}. Best is trial 79 with value: 0.28157939171861424.\u001b[0m\n",
      "\u001b[32m[I 2023-06-16 18:28:48,924]\u001b[0m Trial 81 finished with value: 0.3655704309666724 and parameters: {'lambda_l1': 2.155314292644216e-06, 'lambda_l2': 0.005106250318610598, 'num_leaves': 35, 'feature_fraction': 0.8579315502384858, 'bagging_fraction': 0.4830907723949911, 'bagging_freq': 6, 'min_child_samples': 54}. Best is trial 79 with value: 0.28157939171861424.\u001b[0m\n",
      "\u001b[32m[I 2023-06-16 18:28:49,191]\u001b[0m Trial 82 finished with value: 0.39371530232422375 and parameters: {'lambda_l1': 1.3113588953999251e-07, 'lambda_l2': 0.017897308978922062, 'num_leaves': 53, 'feature_fraction': 0.8293471558498752, 'bagging_fraction': 0.548130337218636, 'bagging_freq': 6, 'min_child_samples': 40}. Best is trial 79 with value: 0.28157939171861424.\u001b[0m\n",
      "\u001b[32m[I 2023-06-16 18:28:49,430]\u001b[0m Trial 83 finished with value: 0.38496795043776716 and parameters: {'lambda_l1': 6.5095639912717754e-06, 'lambda_l2': 0.009294527969607645, 'num_leaves': 65, 'feature_fraction': 0.8767728359258927, 'bagging_fraction': 0.4552568157439, 'bagging_freq': 6, 'min_child_samples': 44}. Best is trial 79 with value: 0.28157939171861424.\u001b[0m\n",
      "\u001b[32m[I 2023-06-16 18:28:49,658]\u001b[0m Trial 84 finished with value: 0.3686030769510538 and parameters: {'lambda_l1': 7.483208447923874e-07, 'lambda_l2': 0.001515088268487387, 'num_leaves': 166, 'feature_fraction': 0.7610514029210527, 'bagging_fraction': 0.5294846513462378, 'bagging_freq': 4, 'min_child_samples': 72}. Best is trial 79 with value: 0.28157939171861424.\u001b[0m\n",
      "\u001b[32m[I 2023-06-16 18:28:49,919]\u001b[0m Trial 85 finished with value: 0.34751555352206254 and parameters: {'lambda_l1': 1.9879259103457125e-07, 'lambda_l2': 0.023919042587755988, 'num_leaves': 245, 'feature_fraction': 0.8482025235994104, 'bagging_fraction': 0.5133054573353247, 'bagging_freq': 5, 'min_child_samples': 51}. Best is trial 79 with value: 0.28157939171861424.\u001b[0m\n",
      "\u001b[32m[I 2023-06-16 18:28:50,158]\u001b[0m Trial 86 finished with value: 0.32114971215302146 and parameters: {'lambda_l1': 3.5149601896847174e-07, 'lambda_l2': 0.06305503969103547, 'num_leaves': 152, 'feature_fraction': 0.9520560978689828, 'bagging_fraction': 0.48991945466921644, 'bagging_freq': 4, 'min_child_samples': 46}. Best is trial 79 with value: 0.28157939171861424.\u001b[0m\n",
      "\u001b[32m[I 2023-06-16 18:28:50,390]\u001b[0m Trial 87 finished with value: 0.30791069808632154 and parameters: {'lambda_l1': 5.400236201782951e-07, 'lambda_l2': 0.04395024877506283, 'num_leaves': 138, 'feature_fraction': 0.9594113703400207, 'bagging_fraction': 0.486935426708051, 'bagging_freq': 4, 'min_child_samples': 47}. Best is trial 79 with value: 0.28157939171861424.\u001b[0m\n",
      "\u001b[32m[I 2023-06-16 18:28:50,624]\u001b[0m Trial 88 finished with value: 0.2739003661758214 and parameters: {'lambda_l1': 3.5011319312575934e-07, 'lambda_l2': 0.049671026800073216, 'num_leaves': 154, 'feature_fraction': 0.94684801737468, 'bagging_fraction': 0.4830674195035054, 'bagging_freq': 4, 'min_child_samples': 46}. Best is trial 88 with value: 0.2739003661758214.\u001b[0m\n",
      "\u001b[32m[I 2023-06-16 18:28:50,882]\u001b[0m Trial 89 finished with value: 0.30901883987359147 and parameters: {'lambda_l1': 3.8437486356251533e-07, 'lambda_l2': 0.05347702205510212, 'num_leaves': 153, 'feature_fraction': 0.9498593315420466, 'bagging_fraction': 0.4903447515480775, 'bagging_freq': 4, 'min_child_samples': 47}. Best is trial 88 with value: 0.2739003661758214.\u001b[0m\n",
      "\u001b[32m[I 2023-06-16 18:28:51,097]\u001b[0m Trial 90 finished with value: 0.30738057171024963 and parameters: {'lambda_l1': 3.6799750089910477e-07, 'lambda_l2': 0.06905763338953502, 'num_leaves': 122, 'feature_fraction': 0.9238176507821284, 'bagging_fraction': 0.4802856828310343, 'bagging_freq': 4, 'min_child_samples': 47}. Best is trial 88 with value: 0.2739003661758214.\u001b[0m\n",
      "\u001b[32m[I 2023-06-16 18:28:51,320]\u001b[0m Trial 91 finished with value: 0.31036481410075245 and parameters: {'lambda_l1': 2.8271232282859794e-07, 'lambda_l2': 0.059319716129404274, 'num_leaves': 121, 'feature_fraction': 0.9232818085022088, 'bagging_fraction': 0.48392643444643924, 'bagging_freq': 4, 'min_child_samples': 46}. Best is trial 88 with value: 0.2739003661758214.\u001b[0m\n",
      "\u001b[32m[I 2023-06-16 18:28:51,558]\u001b[0m Trial 92 finished with value: 0.32787180536764826 and parameters: {'lambda_l1': 3.57874614732945e-07, 'lambda_l2': 0.058929778585473706, 'num_leaves': 122, 'feature_fraction': 0.9295056884162773, 'bagging_fraction': 0.4610564560429436, 'bagging_freq': 4, 'min_child_samples': 47}. Best is trial 88 with value: 0.2739003661758214.\u001b[0m\n",
      "\u001b[32m[I 2023-06-16 18:28:51,819]\u001b[0m Trial 93 finished with value: 0.28978695554239026 and parameters: {'lambda_l1': 1.1532305524299972e-06, 'lambda_l2': 0.10387377831736305, 'num_leaves': 137, 'feature_fraction': 0.9120089552288289, 'bagging_fraction': 0.4759804485177813, 'bagging_freq': 4, 'min_child_samples': 41}. Best is trial 88 with value: 0.2739003661758214.\u001b[0m\n",
      "\u001b[32m[I 2023-06-16 18:28:52,073]\u001b[0m Trial 94 finished with value: 0.3349873291807367 and parameters: {'lambda_l1': 5.379858087738414e-07, 'lambda_l2': 0.21714901955478025, 'num_leaves': 137, 'feature_fraction': 0.9196885692721549, 'bagging_fraction': 0.4807358015190779, 'bagging_freq': 4, 'min_child_samples': 41}. Best is trial 88 with value: 0.2739003661758214.\u001b[0m\n",
      "\u001b[32m[I 2023-06-16 18:28:52,381]\u001b[0m Trial 95 finished with value: 0.3731977720545739 and parameters: {'lambda_l1': 1.2881940748944324e-06, 'lambda_l2': 0.1011531773261159, 'num_leaves': 126, 'feature_fraction': 0.8974382959617432, 'bagging_fraction': 0.4339695554804123, 'bagging_freq': 4, 'min_child_samples': 51}. Best is trial 88 with value: 0.2739003661758214.\u001b[0m\n",
      "\u001b[32m[I 2023-06-16 18:28:52,749]\u001b[0m Trial 96 finished with value: 0.3825469994467377 and parameters: {'lambda_l1': 2.9708114725339087e-06, 'lambda_l2': 0.10105993289650057, 'num_leaves': 112, 'feature_fraction': 0.9396444415517083, 'bagging_fraction': 0.4731028223210905, 'bagging_freq': 3, 'min_child_samples': 43}. Best is trial 88 with value: 0.2739003661758214.\u001b[0m\n",
      "\u001b[32m[I 2023-06-16 18:28:53,037]\u001b[0m Trial 97 finished with value: 0.29392462534050634 and parameters: {'lambda_l1': 2.7258535449417026e-07, 'lambda_l2': 0.012893817146072661, 'num_leaves': 118, 'feature_fraction': 0.887305072384656, 'bagging_fraction': 0.5024373466370518, 'bagging_freq': 4, 'min_child_samples': 48}. Best is trial 88 with value: 0.2739003661758214.\u001b[0m\n",
      "\u001b[32m[I 2023-06-16 18:28:53,256]\u001b[0m Trial 98 finished with value: 0.3348505851885116 and parameters: {'lambda_l1': 2.4174951245514313e-07, 'lambda_l2': 0.015163527451289018, 'num_leaves': 119, 'feature_fraction': 0.8793268101862945, 'bagging_fraction': 0.5071983780327431, 'bagging_freq': 4, 'min_child_samples': 48}. Best is trial 88 with value: 0.2739003661758214.\u001b[0m\n",
      "\u001b[32m[I 2023-06-16 18:28:53,498]\u001b[0m Trial 99 finished with value: 0.29209827994007653 and parameters: {'lambda_l1': 1.609869018581179e-07, 'lambda_l2': 0.2656314279631351, 'num_leaves': 102, 'feature_fraction': 0.8904595712359947, 'bagging_fraction': 0.48713401954888846, 'bagging_freq': 4, 'min_child_samples': 40}. Best is trial 88 with value: 0.2739003661758214.\u001b[0m\n"
     ]
    }
   ],
   "source": [
    "import optuna\n",
    "\n",
    "def save_best_callback(study, trial):\n",
    "    \"\"\"\n",
    "    Each iteration of the study, it saves the best trial, so that it can be used later\n",
    "    \"\"\"\n",
    "    if study.best_trial.number == trial.number:\n",
    "        study.set_user_attr(key='best_booster', value=trial.user_attrs['best_booster'])\n",
    "        \n",
    "        \n",
    "def objective(trial):\n",
    "    lgb_train = lgb.Dataset(X_train, label=y_train, params={'verbose': -1}, free_raw_data=False) \n",
    "    lgb_valid = lgb.Dataset(X_valid, label=y_valid, params={'verbose': -1}, free_raw_data=False)\n",
    "\n",
    "    params = {\n",
    "        'objective': 'binary',\n",
    "        'metric': 'binary_logloss',\n",
    "        'lambda_l1': trial.suggest_loguniform('lambda_l1', 1e-8, 10.0),\n",
    "        'lambda_l2': trial.suggest_loguniform('lambda_l2', 1e-8, 10.0),\n",
    "        'num_leaves': trial.suggest_int('num_leaves', 2, 256),\n",
    "        'feature_fraction': trial.suggest_uniform('feature_fraction', 0.4, 1.0),\n",
    "        'bagging_fraction': trial.suggest_uniform('bagging_fraction', 0.4, 1.0),\n",
    "        'bagging_freq': trial.suggest_int('bagging_freq', 1, 7),\n",
    "        'min_child_samples': trial.suggest_int('min_child_samples', 5, 100),\n",
    "        'verbose': -1\n",
    "    }\n",
    " \n",
    "    gbm = lgb.train(params, lgb_train, verbose_eval = False)\n",
    "    trial.set_user_attr(key='best_booster', value=gbm)\n",
    "    y_pred = gbm.predict(X_valid)\n",
    "    \n",
    "    loss = balanced_logarithmic_loss(y_true = y_valid , y_pred = y_pred)\n",
    "    return loss\n",
    "\n",
    "# Start minimizing the loss function\n",
    "study = optuna.create_study(direction='minimize')\n",
    "study.optimize(objective, n_trials=100, callbacks=[save_best_callback])\n",
    "\n",
    "# Get the best performing model \n",
    "best_model = study.user_attrs['best_booster']\n",
    "y_pred = best_model.predict(X_valid)"
   ]
  },
  {
   "cell_type": "code",
   "execution_count": 25,
   "id": "a344e8b7",
   "metadata": {
    "execution": {
     "iopub.execute_input": "2023-06-16T18:28:53.591896Z",
     "iopub.status.busy": "2023-06-16T18:28:53.591506Z",
     "iopub.status.idle": "2023-06-16T18:28:53.603819Z",
     "shell.execute_reply": "2023-06-16T18:28:53.602018Z"
    },
    "papermill": {
     "duration": 0.054978,
     "end_time": "2023-06-16T18:28:53.606353",
     "exception": false,
     "start_time": "2023-06-16T18:28:53.551375",
     "status": "completed"
    },
    "tags": []
   },
   "outputs": [
    {
     "name": "stdout",
     "output_type": "stream",
     "text": [
      "\n",
      "The best model's score is: 0.2739003661758214\n",
      "\n",
      "The parameters used for the best model were:\n",
      "{'bagging_fraction': 0.4830674195035054,\n",
      " 'bagging_freq': 4,\n",
      " 'feature_fraction': 0.94684801737468,\n",
      " 'lambda_l1': 3.5011319312575934e-07,\n",
      " 'lambda_l2': 0.049671026800073216,\n",
      " 'min_child_samples': 46,\n",
      " 'num_leaves': 154}\n"
     ]
    }
   ],
   "source": [
    "print('\\nThe best model\\'s score is:', balanced_logarithmic_loss(y_true = y_valid , y_pred = y_pred))\n",
    "print('\\nThe parameters used for the best model were:')\n",
    "pprint(study.best_trial.params)"
   ]
  },
  {
   "cell_type": "markdown",
   "id": "ce36a17e",
   "metadata": {
    "papermill": {
     "duration": 0.038319,
     "end_time": "2023-06-16T18:28:53.683896",
     "exception": false,
     "start_time": "2023-06-16T18:28:53.645577",
     "status": "completed"
    },
    "tags": []
   },
   "source": [
    "We got a score of around **0.25**, which is a the best yet. It would be possible to improve slightly by doing another optimization step, but the performance is quite good already.\n",
    "\n",
    "We are ready to use this model in the final phase.\n",
    "\n",
    "## Predicting on the test data\n",
    "\n",
    "We will **prepare the test data** in the same manner that we did before:"
   ]
  },
  {
   "cell_type": "code",
   "execution_count": 26,
   "id": "b1c6befb",
   "metadata": {
    "execution": {
     "iopub.execute_input": "2023-06-16T18:28:53.765211Z",
     "iopub.status.busy": "2023-06-16T18:28:53.764818Z",
     "iopub.status.idle": "2023-06-16T18:28:53.804365Z",
     "shell.execute_reply": "2023-06-16T18:28:53.802683Z"
    },
    "papermill": {
     "duration": 0.084723,
     "end_time": "2023-06-16T18:28:53.807421",
     "exception": false,
     "start_time": "2023-06-16T18:28:53.722698",
     "status": "completed"
    },
    "tags": []
   },
   "outputs": [],
   "source": [
    "# Split into X and y\n",
    "X = dataset_df.copy()\n",
    "# Remove Id, it has no relevant information\n",
    "X.pop('Id') \n",
    "\n",
    "# Remove target\n",
    "y = X.pop('Class')\n",
    "\n",
    "# Cast the target from int to float\n",
    "y = y.astype('float64')\n",
    "\n",
    "# Load test data\n",
    "test_df = pd.read_csv('/kaggle/input/icr-identify-age-related-conditions/test.csv')\n",
    "X_test = test_df.copy() \n",
    "\n",
    "# The test database doesn't include the Class column, so we don't have to remove it\n",
    "\n",
    "# Remove the IDs for the training phase, and store them to use in the submission phase\n",
    "X_test_Ids = X_test.pop('Id')\n",
    "\n",
    "\n",
    "# Use the previously defined preprocessor to transform the data\n",
    "\n",
    "# INFO: If you train a model again from this point, it is better to fit_transform().\n",
    "# Since we used early stopping, we won't be training the model further.\n",
    "X = preprocessor.transform(X)\n",
    "\n",
    "\n",
    "# Apply the same transformation to the test data\n",
    "X_test = preprocessor.transform(X_test)  \n",
    "\n",
    "# Get the predictions\n",
    "y_prediction = best_model.predict(X_test)"
   ]
  },
  {
   "cell_type": "markdown",
   "id": "020b0a16",
   "metadata": {
    "papermill": {
     "duration": 0.038584,
     "end_time": "2023-06-16T18:28:53.885607",
     "exception": false,
     "start_time": "2023-06-16T18:28:53.847023",
     "status": "completed"
    },
    "tags": []
   },
   "source": [
    "### Making the submission file\n",
    "\n",
    "For each id in the test set, you must predict a probability for each of the two classes. The file should contain a header and have the following format:\n",
    "```\n",
    "Id,class_0,class_1\n",
    "00eed32682bb,0.5,0.5\n",
    "010ebe33f668,0.5,0.5\n",
    "02fa521e1838,0.5,0.5\n",
    "040e15f562a2,0.5,0.5\n",
    "046e85c7cc7f,0.5,0.5\n",
    "...\n",
    "```\n",
    "\n",
    "We now proceed to construct this submission file:"
   ]
  },
  {
   "cell_type": "code",
   "execution_count": 27,
   "id": "2e0a2ec7",
   "metadata": {
    "execution": {
     "iopub.execute_input": "2023-06-16T18:28:53.964455Z",
     "iopub.status.busy": "2023-06-16T18:28:53.964055Z",
     "iopub.status.idle": "2023-06-16T18:28:53.976459Z",
     "shell.execute_reply": "2023-06-16T18:28:53.975632Z"
    },
    "papermill": {
     "duration": 0.054032,
     "end_time": "2023-06-16T18:28:53.978725",
     "exception": false,
     "start_time": "2023-06-16T18:28:53.924693",
     "status": "completed"
    },
    "tags": []
   },
   "outputs": [
    {
     "data": {
      "text/html": [
       "<div>\n",
       "<style scoped>\n",
       "    .dataframe tbody tr th:only-of-type {\n",
       "        vertical-align: middle;\n",
       "    }\n",
       "\n",
       "    .dataframe tbody tr th {\n",
       "        vertical-align: top;\n",
       "    }\n",
       "\n",
       "    .dataframe thead th {\n",
       "        text-align: right;\n",
       "    }\n",
       "</style>\n",
       "<table border=\"1\" class=\"dataframe\">\n",
       "  <thead>\n",
       "    <tr style=\"text-align: right;\">\n",
       "      <th></th>\n",
       "      <th>Id</th>\n",
       "      <th>Class 0</th>\n",
       "      <th>Class 1</th>\n",
       "    </tr>\n",
       "  </thead>\n",
       "  <tbody>\n",
       "    <tr>\n",
       "      <th>0</th>\n",
       "      <td>00eed32682bb</td>\n",
       "      <td>0.649281</td>\n",
       "      <td>0.350719</td>\n",
       "    </tr>\n",
       "    <tr>\n",
       "      <th>1</th>\n",
       "      <td>010ebe33f668</td>\n",
       "      <td>0.649281</td>\n",
       "      <td>0.350719</td>\n",
       "    </tr>\n",
       "    <tr>\n",
       "      <th>2</th>\n",
       "      <td>02fa521e1838</td>\n",
       "      <td>0.649281</td>\n",
       "      <td>0.350719</td>\n",
       "    </tr>\n",
       "    <tr>\n",
       "      <th>3</th>\n",
       "      <td>040e15f562a2</td>\n",
       "      <td>0.649281</td>\n",
       "      <td>0.350719</td>\n",
       "    </tr>\n",
       "    <tr>\n",
       "      <th>4</th>\n",
       "      <td>046e85c7cc7f</td>\n",
       "      <td>0.649281</td>\n",
       "      <td>0.350719</td>\n",
       "    </tr>\n",
       "  </tbody>\n",
       "</table>\n",
       "</div>"
      ],
      "text/plain": [
       "             Id   Class 0   Class 1\n",
       "0  00eed32682bb  0.649281  0.350719\n",
       "1  010ebe33f668  0.649281  0.350719\n",
       "2  02fa521e1838  0.649281  0.350719\n",
       "3  040e15f562a2  0.649281  0.350719\n",
       "4  046e85c7cc7f  0.649281  0.350719"
      ]
     },
     "execution_count": 27,
     "metadata": {},
     "output_type": "execute_result"
    }
   ],
   "source": [
    "# The predicted values for y are equivalent to the probability of a patient being in class 1\n",
    "submission = pd.DataFrame(y_prediction, columns = ['Class 1'])\n",
    "\n",
    "# We add the identification column back in\n",
    "submission['Id'] = X_test_Ids\n",
    "\n",
    "# The probability of being in class 0 is the inverse of them being in class 1\n",
    "submission['Class 0'] = 1 - submission['Class 1']\n",
    "\n",
    "# Rearranges the column order to fit the submission criteria\n",
    "submission = submission[['Id', 'Class 0', 'Class 1']]\n",
    "submission"
   ]
  },
  {
   "cell_type": "markdown",
   "id": "569e981e",
   "metadata": {
    "papermill": {
     "duration": 0.038821,
     "end_time": "2023-06-16T18:28:54.056973",
     "exception": false,
     "start_time": "2023-06-16T18:28:54.018152",
     "status": "completed"
    },
    "tags": []
   },
   "source": [
    "### Submitting to the competition"
   ]
  },
  {
   "cell_type": "code",
   "execution_count": 28,
   "id": "ab88e830",
   "metadata": {
    "execution": {
     "iopub.execute_input": "2023-06-16T18:28:54.136998Z",
     "iopub.status.busy": "2023-06-16T18:28:54.136351Z",
     "iopub.status.idle": "2023-06-16T18:28:54.145880Z",
     "shell.execute_reply": "2023-06-16T18:28:54.144739Z"
    },
    "papermill": {
     "duration": 0.05228,
     "end_time": "2023-06-16T18:28:54.148050",
     "exception": false,
     "start_time": "2023-06-16T18:28:54.095770",
     "status": "completed"
    },
    "tags": []
   },
   "outputs": [],
   "source": [
    "# Saves the dataframe to a submission.csv file\n",
    "submission.to_csv(header = ['id', 'class_0', 'class_1'], index = False, path_or_buf = '/kaggle/working/submission.csv')"
   ]
  }
 ],
 "metadata": {
  "kernelspec": {
   "display_name": "Python 3",
   "language": "python",
   "name": "python3"
  },
  "language_info": {
   "codemirror_mode": {
    "name": "ipython",
    "version": 3
   },
   "file_extension": ".py",
   "mimetype": "text/x-python",
   "name": "python",
   "nbconvert_exporter": "python",
   "pygments_lexer": "ipython3",
   "version": "3.10.10"
  },
  "papermill": {
   "default_parameters": {},
   "duration": 279.847062,
   "end_time": "2023-06-16T18:28:56.808385",
   "environment_variables": {},
   "exception": null,
   "input_path": "__notebook__.ipynb",
   "output_path": "__notebook__.ipynb",
   "parameters": {},
   "start_time": "2023-06-16T18:24:16.961323",
   "version": "2.4.0"
  }
 },
 "nbformat": 4,
 "nbformat_minor": 5
}
